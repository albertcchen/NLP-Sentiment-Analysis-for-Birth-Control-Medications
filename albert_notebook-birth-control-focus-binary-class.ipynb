{
 "cells": [
  {
   "cell_type": "markdown",
   "metadata": {},
   "source": [
    "# NLP For Drugs.com Data Set"
   ]
  },
  {
   "cell_type": "markdown",
   "metadata": {},
   "source": [
    "### Packages Import"
   ]
  },
  {
   "cell_type": "code",
   "execution_count": 1,
   "metadata": {},
   "outputs": [
    {
     "name": "stderr",
     "output_type": "stream",
     "text": [
      "[nltk_data] Downloading package wordnet to\n",
      "[nltk_data]     /Users/albertcc/nltk_data...\n",
      "[nltk_data]   Package wordnet is already up-to-date!\n",
      "[nltk_data] Downloading package vader_lexicon to\n",
      "[nltk_data]     /Users/albertcc/nltk_data...\n",
      "[nltk_data]   Package vader_lexicon is already up-to-date!\n"
     ]
    }
   ],
   "source": [
    "### Visualization\n",
    "import matplotlib.pyplot as plt\n",
    "import seaborn as sns\n",
    "from wordcloud import WordCloud\n",
    "sns.color_palette(\"Blues\", as_cmap=True)\n",
    "\n",
    "### Standard Packages\n",
    "import numpy as np\n",
    "import warnings\n",
    "import nltk\n",
    "import re\n",
    "import pandas as pd\n",
    "pd.set_option('display.max_colwidth', None)\n",
    "warnings.filterwarnings(\"ignore\")\n",
    "\n",
    "### NLTK\n",
    "from nltk.tokenize import TweetTokenizer\n",
    "from nltk.corpus import stopwords, wordnet\n",
    "from nltk import pos_tag\n",
    "from nltk.stem import WordNetLemmatizer\n",
    "from nltk.sentiment.vader import SentimentIntensityAnalyzer\n",
    "from nltk.tokenize import RegexpTokenizer\n",
    "nltk.download('wordnet')\n",
    "nltk.download('vader_lexicon')\n",
    "import contractions\n",
    "\n",
    "### Scikit-Learn\n",
    "from sklearn.model_selection import train_test_split, cross_val_score\n",
    "from sklearn.tree import DecisionTreeClassifier\n",
    "from sklearn.ensemble import RandomForestClassifier\n",
    "from sklearn.compose import ColumnTransformer\n",
    "from sklearn.preprocessing import OneHotEncoder\n",
    "from sklearn.linear_model import LogisticRegression\n",
    "from sklearn.naive_bayes import MultinomialNB\n",
    "from sklearn.feature_extraction.text import CountVectorizer, TfidfVectorizer\n",
    "from sklearn.model_selection import GridSearchCV\n",
    "from sklearn.compose import ColumnTransformer\n",
    "from sklearn.svm import SVC\n",
    "from sklearn.metrics import ConfusionMatrixDisplay, confusion_matrix, classification_report, \\\n",
    "                            accuracy_score, f1_score, recall_score, precision_score\n",
    "\n",
    "### ImbLearn\n",
    "from imblearn.pipeline import Pipeline as imbpipeline\n",
    "from imblearn.over_sampling import SMOTE"
   ]
  },
  {
   "cell_type": "markdown",
   "metadata": {},
   "source": [
    "### Bringing in two .tsv files as test and train"
   ]
  },
  {
   "cell_type": "code",
   "execution_count": 2,
   "metadata": {},
   "outputs": [],
   "source": [
    "# Load in the test and train datasets provided in the data file\n",
    "data_test = pd.read_csv('data/drugsComTest_raw.tsv', sep='\\t')\n",
    "data_train = pd.read_csv('data/drugsComTrain_raw.tsv', sep='\\t')"
   ]
  },
  {
   "cell_type": "code",
   "execution_count": 3,
   "metadata": {},
   "outputs": [
    {
     "name": "stdout",
     "output_type": "stream",
     "text": [
      "<class 'pandas.core.frame.DataFrame'>\n",
      "RangeIndex: 53766 entries, 0 to 53765\n",
      "Data columns (total 7 columns):\n",
      " #   Column       Non-Null Count  Dtype  \n",
      "---  ------       --------------  -----  \n",
      " 0   Unnamed: 0   53766 non-null  int64  \n",
      " 1   drugName     53766 non-null  object \n",
      " 2   condition    53471 non-null  object \n",
      " 3   review       53766 non-null  object \n",
      " 4   rating       53766 non-null  float64\n",
      " 5   date         53766 non-null  object \n",
      " 6   usefulCount  53766 non-null  int64  \n",
      "dtypes: float64(1), int64(2), object(4)\n",
      "memory usage: 2.9+ MB\n"
     ]
    }
   ],
   "source": [
    "data_test.info()"
   ]
  },
  {
   "cell_type": "code",
   "execution_count": 4,
   "metadata": {
    "scrolled": false
   },
   "outputs": [
    {
     "name": "stdout",
     "output_type": "stream",
     "text": [
      "<class 'pandas.core.frame.DataFrame'>\n",
      "RangeIndex: 161297 entries, 0 to 161296\n",
      "Data columns (total 7 columns):\n",
      " #   Column       Non-Null Count   Dtype  \n",
      "---  ------       --------------   -----  \n",
      " 0   Unnamed: 0   161297 non-null  int64  \n",
      " 1   drugName     161297 non-null  object \n",
      " 2   condition    160398 non-null  object \n",
      " 3   review       161297 non-null  object \n",
      " 4   rating       161297 non-null  float64\n",
      " 5   date         161297 non-null  object \n",
      " 6   usefulCount  161297 non-null  int64  \n",
      "dtypes: float64(1), int64(2), object(4)\n",
      "memory usage: 8.6+ MB\n"
     ]
    }
   ],
   "source": [
    "data_train.info()"
   ]
  },
  {
   "cell_type": "markdown",
   "metadata": {},
   "source": [
    "### Merge Test and Train dataframes"
   ]
  },
  {
   "cell_type": "markdown",
   "metadata": {},
   "source": [
    "- The data provided is already split into test and train tsv files. I would like to combine these to not only have more data to work with, but any cleaning could be applied to the merged dataset before splitting into a training and testing set."
   ]
  },
  {
   "cell_type": "code",
   "execution_count": 5,
   "metadata": {},
   "outputs": [],
   "source": [
    "merged_df = pd.concat([data_test, data_train], axis=0)"
   ]
  },
  {
   "cell_type": "code",
   "execution_count": 6,
   "metadata": {},
   "outputs": [
    {
     "name": "stdout",
     "output_type": "stream",
     "text": [
      "<class 'pandas.core.frame.DataFrame'>\n",
      "Int64Index: 215063 entries, 0 to 161296\n",
      "Data columns (total 7 columns):\n",
      " #   Column       Non-Null Count   Dtype  \n",
      "---  ------       --------------   -----  \n",
      " 0   Unnamed: 0   215063 non-null  int64  \n",
      " 1   drugName     215063 non-null  object \n",
      " 2   condition    213869 non-null  object \n",
      " 3   review       215063 non-null  object \n",
      " 4   rating       215063 non-null  float64\n",
      " 5   date         215063 non-null  object \n",
      " 6   usefulCount  215063 non-null  int64  \n",
      "dtypes: float64(1), int64(2), object(4)\n",
      "memory usage: 13.1+ MB\n"
     ]
    }
   ],
   "source": [
    "merged_df.info()"
   ]
  },
  {
   "cell_type": "code",
   "execution_count": 7,
   "metadata": {},
   "outputs": [],
   "source": [
    "# Drop first column since these appear to be entry numbers\n",
    "merged_df = merged_df.drop(merged_df.columns[0],axis=1)"
   ]
  },
  {
   "cell_type": "code",
   "execution_count": 8,
   "metadata": {},
   "outputs": [
    {
     "data": {
      "text/html": [
       "<div>\n",
       "<style scoped>\n",
       "    .dataframe tbody tr th:only-of-type {\n",
       "        vertical-align: middle;\n",
       "    }\n",
       "\n",
       "    .dataframe tbody tr th {\n",
       "        vertical-align: top;\n",
       "    }\n",
       "\n",
       "    .dataframe thead th {\n",
       "        text-align: right;\n",
       "    }\n",
       "</style>\n",
       "<table border=\"1\" class=\"dataframe\">\n",
       "  <thead>\n",
       "    <tr style=\"text-align: right;\">\n",
       "      <th></th>\n",
       "      <th>drugName</th>\n",
       "      <th>condition</th>\n",
       "      <th>review</th>\n",
       "      <th>rating</th>\n",
       "      <th>date</th>\n",
       "      <th>usefulCount</th>\n",
       "    </tr>\n",
       "  </thead>\n",
       "  <tbody>\n",
       "    <tr>\n",
       "      <th>0</th>\n",
       "      <td>Mirtazapine</td>\n",
       "      <td>Depression</td>\n",
       "      <td>\"I&amp;#039;ve tried a few antidepressants over the years (citalopram, fluoxetine, amitriptyline), but none of those helped with my depression, insomnia &amp;amp; anxiety. My doctor suggested and changed me onto 45mg mirtazapine and this medicine has saved my life. Thankfully I have had no side effects especially the most common - weight gain, I&amp;#039;ve actually lost alot of weight. I still have suicidal thoughts but mirtazapine has saved me.\"</td>\n",
       "      <td>10.0</td>\n",
       "      <td>February 28, 2012</td>\n",
       "      <td>22</td>\n",
       "    </tr>\n",
       "    <tr>\n",
       "      <th>1</th>\n",
       "      <td>Mesalamine</td>\n",
       "      <td>Crohn's Disease, Maintenance</td>\n",
       "      <td>\"My son has Crohn&amp;#039;s disease and has done very well on the Asacol.  He has no complaints and shows no side effects.  He has taken as many as nine tablets per day at one time.  I&amp;#039;ve been very happy with the results, reducing his bouts of diarrhea drastically.\"</td>\n",
       "      <td>8.0</td>\n",
       "      <td>May 17, 2009</td>\n",
       "      <td>17</td>\n",
       "    </tr>\n",
       "    <tr>\n",
       "      <th>2</th>\n",
       "      <td>Bactrim</td>\n",
       "      <td>Urinary Tract Infection</td>\n",
       "      <td>\"Quick reduction of symptoms\"</td>\n",
       "      <td>9.0</td>\n",
       "      <td>September 29, 2017</td>\n",
       "      <td>3</td>\n",
       "    </tr>\n",
       "    <tr>\n",
       "      <th>3</th>\n",
       "      <td>Contrave</td>\n",
       "      <td>Weight Loss</td>\n",
       "      <td>\"Contrave combines drugs that were used for alcohol, smoking, and opioid cessation. People lose weight on it because it also helps control over-eating. I have no doubt that most obesity is caused from sugar/carb addiction, which is just as powerful as any drug. I have been taking it for five days, and the good news is, it seems to go to work immediately. I feel hungry before I want food now. I really don&amp;#039;t care to eat; it&amp;#039;s just to fill my stomach. Since I have only been on it a few days, I don&amp;#039;t know if I&amp;#039;ve lost weight (I don&amp;#039;t have a scale), but my clothes do feel a little looser, so maybe a pound or two. I&amp;#039;m hoping that after a few months on this medication, I will develop healthier habits that I can continue without the aid of Contrave.\"</td>\n",
       "      <td>9.0</td>\n",
       "      <td>March 5, 2017</td>\n",
       "      <td>35</td>\n",
       "    </tr>\n",
       "    <tr>\n",
       "      <th>4</th>\n",
       "      <td>Cyclafem 1 / 35</td>\n",
       "      <td>Birth Control</td>\n",
       "      <td>\"I have been on this birth control for one cycle. After reading some of the reviews on this type and similar birth controls I was a bit apprehensive to start. Im giving this birth control a 9 out of 10 as I have not been on it long enough for a 10. So far I love this birth control! My side effects have been so minimal its like Im not even on birth control! I have experienced mild headaches here and there and some nausea but other than that ive been feeling great! I got my period on cue on the third day of the inactive pills and I had no idea it was coming because I had zero pms! My period was very light and I barely had any cramping! I had unprotected sex the first month and obviously didn&amp;#039;t get pregnant so I&amp;#039;m very pleased! Highly recommend\"</td>\n",
       "      <td>9.0</td>\n",
       "      <td>October 22, 2015</td>\n",
       "      <td>4</td>\n",
       "    </tr>\n",
       "  </tbody>\n",
       "</table>\n",
       "</div>"
      ],
      "text/plain": [
       "          drugName                     condition  \\\n",
       "0      Mirtazapine                    Depression   \n",
       "1       Mesalamine  Crohn's Disease, Maintenance   \n",
       "2          Bactrim       Urinary Tract Infection   \n",
       "3         Contrave                   Weight Loss   \n",
       "4  Cyclafem 1 / 35                 Birth Control   \n",
       "\n",
       "                                                                                                                                                                                                                                                                                                                                                                                                                                                                                                                                                                                                                                                                                                                                                                                                           review  \\\n",
       "0                                                                                                                                                                                                                                                                                                                                                         \"I&#039;ve tried a few antidepressants over the years (citalopram, fluoxetine, amitriptyline), but none of those helped with my depression, insomnia &amp; anxiety. My doctor suggested and changed me onto 45mg mirtazapine and this medicine has saved my life. Thankfully I have had no side effects especially the most common - weight gain, I&#039;ve actually lost alot of weight. I still have suicidal thoughts but mirtazapine has saved me.\"   \n",
       "1                                                                                                                                                                                                                                                                                                                                                                                                                                                                                                                                    \"My son has Crohn&#039;s disease and has done very well on the Asacol.  He has no complaints and shows no side effects.  He has taken as many as nine tablets per day at one time.  I&#039;ve been very happy with the results, reducing his bouts of diarrhea drastically.\"   \n",
       "2                                                                                                                                                                                                                                                                                                                                                                                                                                                                                                                                                                                                                                                                                                                                                                                   \"Quick reduction of symptoms\"   \n",
       "3  \"Contrave combines drugs that were used for alcohol, smoking, and opioid cessation. People lose weight on it because it also helps control over-eating. I have no doubt that most obesity is caused from sugar/carb addiction, which is just as powerful as any drug. I have been taking it for five days, and the good news is, it seems to go to work immediately. I feel hungry before I want food now. I really don&#039;t care to eat; it&#039;s just to fill my stomach. Since I have only been on it a few days, I don&#039;t know if I&#039;ve lost weight (I don&#039;t have a scale), but my clothes do feel a little looser, so maybe a pound or two. I&#039;m hoping that after a few months on this medication, I will develop healthier habits that I can continue without the aid of Contrave.\"   \n",
       "4                      \"I have been on this birth control for one cycle. After reading some of the reviews on this type and similar birth controls I was a bit apprehensive to start. Im giving this birth control a 9 out of 10 as I have not been on it long enough for a 10. So far I love this birth control! My side effects have been so minimal its like Im not even on birth control! I have experienced mild headaches here and there and some nausea but other than that ive been feeling great! I got my period on cue on the third day of the inactive pills and I had no idea it was coming because I had zero pms! My period was very light and I barely had any cramping! I had unprotected sex the first month and obviously didn&#039;t get pregnant so I&#039;m very pleased! Highly recommend\"   \n",
       "\n",
       "   rating                date  usefulCount  \n",
       "0    10.0   February 28, 2012           22  \n",
       "1     8.0        May 17, 2009           17  \n",
       "2     9.0  September 29, 2017            3  \n",
       "3     9.0       March 5, 2017           35  \n",
       "4     9.0    October 22, 2015            4  "
      ]
     },
     "execution_count": 8,
     "metadata": {},
     "output_type": "execute_result"
    }
   ],
   "source": [
    "# Sanity check that the Unnamed column has been dropped\n",
    "merged_df.head()"
   ]
  },
  {
   "cell_type": "markdown",
   "metadata": {},
   "source": [
    "- Noticed how 'condition' has some missing values, but other columns are fine"
   ]
  },
  {
   "cell_type": "code",
   "execution_count": 9,
   "metadata": {},
   "outputs": [],
   "source": [
    "# Drop null values that are in 'condition'\n",
    "\n",
    "merged_df = merged_df.dropna(subset=['condition'])"
   ]
  },
  {
   "cell_type": "code",
   "execution_count": 10,
   "metadata": {
    "scrolled": true
   },
   "outputs": [
    {
     "name": "stdout",
     "output_type": "stream",
     "text": [
      "<class 'pandas.core.frame.DataFrame'>\n",
      "Int64Index: 213869 entries, 0 to 161296\n",
      "Data columns (total 6 columns):\n",
      " #   Column       Non-Null Count   Dtype  \n",
      "---  ------       --------------   -----  \n",
      " 0   drugName     213869 non-null  object \n",
      " 1   condition    213869 non-null  object \n",
      " 2   review       213869 non-null  object \n",
      " 3   rating       213869 non-null  float64\n",
      " 4   date         213869 non-null  object \n",
      " 5   usefulCount  213869 non-null  int64  \n",
      "dtypes: float64(1), int64(1), object(4)\n",
      "memory usage: 11.4+ MB\n"
     ]
    }
   ],
   "source": [
    "merged_df.info()"
   ]
  },
  {
   "cell_type": "markdown",
   "metadata": {},
   "source": [
    "- Reduces the dataset to 213,869 values"
   ]
  },
  {
   "cell_type": "code",
   "execution_count": 11,
   "metadata": {
    "scrolled": true
   },
   "outputs": [
    {
     "data": {
      "text/plain": [
       "Birth Control                                   38436\n",
       "Depression                                      12164\n",
       "Pain                                             8245\n",
       "Anxiety                                          7812\n",
       "Acne                                             7435\n",
       "                                                ...  \n",
       "40</span> users found this comment helpful.         1\n",
       "Hypopituitarism                                     1\n",
       "105</span> users found this comment helpful.        1\n",
       "Cluster-Tic Syndrome                                1\n",
       "Asystole                                            1\n",
       "Name: condition, Length: 916, dtype: int64"
      ]
     },
     "execution_count": 11,
     "metadata": {},
     "output_type": "execute_result"
    }
   ],
   "source": [
    "merged_df['condition'].value_counts()"
   ]
  },
  {
   "cell_type": "markdown",
   "metadata": {},
   "source": [
    "### Looking at unique drugs under 'Birth Control' condition"
   ]
  },
  {
   "cell_type": "code",
   "execution_count": 12,
   "metadata": {},
   "outputs": [
    {
     "data": {
      "text/plain": [
       "181"
      ]
     },
     "execution_count": 12,
     "metadata": {},
     "output_type": "execute_result"
    }
   ],
   "source": [
    "merged_df['drugName'][merged_df['condition'] =='Birth Control'].nunique()"
   ]
  },
  {
   "cell_type": "code",
   "execution_count": 13,
   "metadata": {
    "scrolled": true
   },
   "outputs": [
    {
     "data": {
      "text/plain": [
       "Etonogestrel                          4394\n",
       "Ethinyl estradiol / norethindrone     3081\n",
       "Levonorgestrel                        2884\n",
       "Nexplanon                             2883\n",
       "Ethinyl estradiol / levonorgestrel    2107\n",
       "                                      ... \n",
       "Loestrin Fe 1.5 / 30                     1\n",
       "Dasetta 1 / 35                           1\n",
       "Dasetta 7 / 7 / 7                        1\n",
       "Loestrin 21 1.5 / 30                     1\n",
       "Larin 24 Fe                              1\n",
       "Name: drugName, Length: 181, dtype: int64"
      ]
     },
     "execution_count": 13,
     "metadata": {},
     "output_type": "execute_result"
    }
   ],
   "source": [
    "merged_df['drugName'][merged_df['condition'] =='Birth Control'].value_counts()"
   ]
  },
  {
   "cell_type": "code",
   "execution_count": 14,
   "metadata": {},
   "outputs": [],
   "source": [
    "# Select the the top 7 birth controls since we want to focus on these\n",
    "bc_drugs = ['Etonogestrel', 'Ethinyl estradiol / norethindrone', 'Nexplanon', 'Levonorgestrel', 'Ethinyl estradiol / levonorgestrel',\n",
    "           'Ethinyl estradiol / norgestimate', 'Implanon']\n",
    "\n",
    "bc_data = merged_df[merged_df['drugName'].isin(bc_drugs)]"
   ]
  },
  {
   "cell_type": "code",
   "execution_count": 15,
   "metadata": {
    "scrolled": true
   },
   "outputs": [
    {
     "data": {
      "text/html": [
       "<div>\n",
       "<style scoped>\n",
       "    .dataframe tbody tr th:only-of-type {\n",
       "        vertical-align: middle;\n",
       "    }\n",
       "\n",
       "    .dataframe tbody tr th {\n",
       "        vertical-align: top;\n",
       "    }\n",
       "\n",
       "    .dataframe thead th {\n",
       "        text-align: right;\n",
       "    }\n",
       "</style>\n",
       "<table border=\"1\" class=\"dataframe\">\n",
       "  <thead>\n",
       "    <tr style=\"text-align: right;\">\n",
       "      <th></th>\n",
       "      <th>drugName</th>\n",
       "      <th>condition</th>\n",
       "      <th>review</th>\n",
       "      <th>rating</th>\n",
       "      <th>date</th>\n",
       "      <th>usefulCount</th>\n",
       "    </tr>\n",
       "  </thead>\n",
       "  <tbody>\n",
       "    <tr>\n",
       "      <th>42</th>\n",
       "      <td>Levonorgestrel</td>\n",
       "      <td>Emergency Contraception</td>\n",
       "      <td>\"I want to share my experience to possibly ease some of the ladies out there.\\r\\nThe incident occur in Nov 18 (the condom broke) and it was 4 days after my period ended and approximately 4 days before ovulation. This means I was fertile. \\r\\nwhen we noticed that the condom broke, we immediately bought Plan B One Step and was taken about 45 minutes or an hour later. \\r\\nThe sooner you take the greater the chances it will work.\\r\\nSo I waited anxiously, praying I get my period. I felt side effects such as fatigue, bloated, nauseous, cramps, and moody. I was that these might be  this pregnancy symptoms. \\r\\nI waited exactly two weeks and I got my period. I was the happiest person ever. My period was here early by approximately 3-4 days. Good luck.\"</td>\n",
       "      <td>10.0</td>\n",
       "      <td>December 28, 2013</td>\n",
       "      <td>20</td>\n",
       "    </tr>\n",
       "    <tr>\n",
       "      <th>50</th>\n",
       "      <td>Etonogestrel</td>\n",
       "      <td>Birth Control</td>\n",
       "      <td>\"I&amp;#039;ve had this birth control for a year now and at first things were going good, I only had a period once and never had one since but now I have super bad anxiety, I would constantly think I was pregnant, would waste my money on pregnancy test even though I am NOT pregnant and my depression was very bad and honestly , I really don&amp;#039;t think it&amp;#039;s worth it at all. I&amp;#039;m getting it removed tomorrow and I most likely am going to have to be in therapy.\"</td>\n",
       "      <td>3.0</td>\n",
       "      <td>August 15, 2017</td>\n",
       "      <td>0</td>\n",
       "    </tr>\n",
       "    <tr>\n",
       "      <th>53</th>\n",
       "      <td>Etonogestrel</td>\n",
       "      <td>Birth Control</td>\n",
       "      <td>\"So I first got the nexplanon in July of 2014, for the first 5 months I was fine, I didn&amp;#039;t get my period and if I did it was random spotting (very light) but around January I noticed I was very emotional EVERYTHING made me cry. Then my period started coming twice a month with horrific cramps. Or I would spot for 2-3 weeks have a week where I thought It was over and started spotting again. I&amp;#039;ve now had it for 13 months and it does the job because I havent gotten pregnant. But that&amp;#039;s only because I haven&amp;#039;t been able to have sex cause I don&amp;#039;t know when my period is going to come\"</td>\n",
       "      <td>5.0</td>\n",
       "      <td>August 28, 2015</td>\n",
       "      <td>7</td>\n",
       "    </tr>\n",
       "    <tr>\n",
       "      <th>70</th>\n",
       "      <td>Ethinyl estradiol / norethindrone</td>\n",
       "      <td>Birth Control</td>\n",
       "      <td>\"I was started on Gildess 1/20 but then was switched to Blisovi as Gildess was recalled. I always had the clearest skin and now that I&amp;#039;ve been taking Blisovi I&amp;#039;ll have random break outs and I&amp;#039;ve gained some weight as well. I do not recommend. I can&amp;#039;t wait to talk to my gynecologist to switch ASAP.\"</td>\n",
       "      <td>3.0</td>\n",
       "      <td>February 7, 2017</td>\n",
       "      <td>4</td>\n",
       "    </tr>\n",
       "    <tr>\n",
       "      <th>76</th>\n",
       "      <td>Ethinyl estradiol / levonorgestrel</td>\n",
       "      <td>Birth Control</td>\n",
       "      <td>\"I just started taking this birth control about 12 days ago when I started my period, and I&amp;#039;m still bleeding as if I&amp;#039;m still on my period. The flow is light however the length of my average period is 2 weeks when I wasn&amp;#039;t on birth control. So maybe the medication is altering my system %u2026I do feel nauseous and I crave like crazy. I do feel a little depressed because my period isn&amp;#039;t gone yet but overall it \\r\\nseems to be a good birth control so far. \"</td>\n",
       "      <td>9.0</td>\n",
       "      <td>July 16, 2011</td>\n",
       "      <td>4</td>\n",
       "    </tr>\n",
       "  </tbody>\n",
       "</table>\n",
       "</div>"
      ],
      "text/plain": [
       "                              drugName                condition  \\\n",
       "42                      Levonorgestrel  Emergency Contraception   \n",
       "50                        Etonogestrel            Birth Control   \n",
       "53                        Etonogestrel            Birth Control   \n",
       "70   Ethinyl estradiol / norethindrone            Birth Control   \n",
       "76  Ethinyl estradiol / levonorgestrel            Birth Control   \n",
       "\n",
       "                                                                                                                                                                                                                                                                                                                                                                                                                                                                                                                                                                                                                                                                                                                                                                                 review  \\\n",
       "42  \"I want to share my experience to possibly ease some of the ladies out there.\\r\\nThe incident occur in Nov 18 (the condom broke) and it was 4 days after my period ended and approximately 4 days before ovulation. This means I was fertile. \\r\\nwhen we noticed that the condom broke, we immediately bought Plan B One Step and was taken about 45 minutes or an hour later. \\r\\nThe sooner you take the greater the chances it will work.\\r\\nSo I waited anxiously, praying I get my period. I felt side effects such as fatigue, bloated, nauseous, cramps, and moody. I was that these might be  this pregnancy symptoms. \\r\\nI waited exactly two weeks and I got my period. I was the happiest person ever. My period was here early by approximately 3-4 days. Good luck.\"   \n",
       "50                                                                                                                                                                                                                                                                                                 \"I&#039;ve had this birth control for a year now and at first things were going good, I only had a period once and never had one since but now I have super bad anxiety, I would constantly think I was pregnant, would waste my money on pregnancy test even though I am NOT pregnant and my depression was very bad and honestly , I really don&#039;t think it&#039;s worth it at all. I&#039;m getting it removed tomorrow and I most likely am going to have to be in therapy.\"   \n",
       "53                                                                                                                                                     \"So I first got the nexplanon in July of 2014, for the first 5 months I was fine, I didn&#039;t get my period and if I did it was random spotting (very light) but around January I noticed I was very emotional EVERYTHING made me cry. Then my period started coming twice a month with horrific cramps. Or I would spot for 2-3 weeks have a week where I thought It was over and started spotting again. I&#039;ve now had it for 13 months and it does the job because I havent gotten pregnant. But that&#039;s only because I haven&#039;t been able to have sex cause I don&#039;t know when my period is going to come\"   \n",
       "70                                                                                                                                                                                                                                                                                                                                                                                                                                                      \"I was started on Gildess 1/20 but then was switched to Blisovi as Gildess was recalled. I always had the clearest skin and now that I&#039;ve been taking Blisovi I&#039;ll have random break outs and I&#039;ve gained some weight as well. I do not recommend. I can&#039;t wait to talk to my gynecologist to switch ASAP.\"   \n",
       "76                                                                                                                                                                                                                                                                                       \"I just started taking this birth control about 12 days ago when I started my period, and I&#039;m still bleeding as if I&#039;m still on my period. The flow is light however the length of my average period is 2 weeks when I wasn&#039;t on birth control. So maybe the medication is altering my system %u2026I do feel nauseous and I crave like crazy. I do feel a little depressed because my period isn&#039;t gone yet but overall it \\r\\nseems to be a good birth control so far. \"   \n",
       "\n",
       "    rating               date  usefulCount  \n",
       "42    10.0  December 28, 2013           20  \n",
       "50     3.0    August 15, 2017            0  \n",
       "53     5.0    August 28, 2015            7  \n",
       "70     3.0   February 7, 2017            4  \n",
       "76     9.0      July 16, 2011            4  "
      ]
     },
     "execution_count": 15,
     "metadata": {},
     "output_type": "execute_result"
    }
   ],
   "source": [
    "bc_data.head()"
   ]
  },
  {
   "cell_type": "code",
   "execution_count": 16,
   "metadata": {
    "scrolled": false
   },
   "outputs": [
    {
     "data": {
      "text/plain": [
       "Levonorgestrel                        4896\n",
       "Etonogestrel                          4402\n",
       "Ethinyl estradiol / norethindrone     3619\n",
       "Nexplanon                             2892\n",
       "Ethinyl estradiol / norgestimate      2682\n",
       "Ethinyl estradiol / levonorgestrel    2400\n",
       "Implanon                              1506\n",
       "Name: drugName, dtype: int64"
      ]
     },
     "execution_count": 16,
     "metadata": {},
     "output_type": "execute_result"
    }
   ],
   "source": [
    "bc_data['drugName'].value_counts()"
   ]
  },
  {
   "cell_type": "markdown",
   "metadata": {},
   "source": [
    "- Wanted to only include in our dataset the top 7 drugs with condition = birth control, however when we filtered for these drugs we see additional conditions were selected"
   ]
  },
  {
   "cell_type": "code",
   "execution_count": 17,
   "metadata": {
    "scrolled": true
   },
   "outputs": [
    {
     "data": {
      "text/plain": [
       "Birth Control                                 18942\n",
       "Emergency Contraception                        1651\n",
       "Abnormal Uterine Bleeding                       812\n",
       "Acne                                            439\n",
       "Endometriosis                                   178\n",
       "Menstrual Disorders                             124\n",
       "Ovarian Cysts                                   106\n",
       "Polycystic Ovary Syndrome                        89\n",
       "Not Listed / Othe                                19\n",
       "Premenstrual Syndrome                            11\n",
       "0</span> users found this comment helpful.        8\n",
       "Postmenopausal Symptoms                           6\n",
       "2</span> users found this comment helpful.        4\n",
       "8</span> users found this comment helpful.        2\n",
       "1</span> users found this comment helpful.        2\n",
       "9</span> users found this comment helpful.        1\n",
       "4</span> users found this comment helpful.        1\n",
       "Gonadotropin Inhibition                           1\n",
       "3</span> users found this comment helpful.        1\n",
       "Name: condition, dtype: int64"
      ]
     },
     "execution_count": 17,
     "metadata": {},
     "output_type": "execute_result"
    }
   ],
   "source": [
    "bc_data['condition'].value_counts()"
   ]
  },
  {
   "cell_type": "markdown",
   "metadata": {},
   "source": [
    "\n"
   ]
  },
  {
   "cell_type": "code",
   "execution_count": 18,
   "metadata": {
    "scrolled": true
   },
   "outputs": [],
   "source": [
    "# Let's try to get rid of these conditions that took in the 'Useful' rating as 'condition'\n",
    "bc_data = bc_data[~bc_data['condition'].str.contains('comment')]"
   ]
  },
  {
   "cell_type": "code",
   "execution_count": 19,
   "metadata": {
    "scrolled": false
   },
   "outputs": [
    {
     "data": {
      "text/plain": [
       "Birth Control                18942\n",
       "Emergency Contraception       1651\n",
       "Abnormal Uterine Bleeding      812\n",
       "Acne                           439\n",
       "Endometriosis                  178\n",
       "Menstrual Disorders            124\n",
       "Ovarian Cysts                  106\n",
       "Polycystic Ovary Syndrome       89\n",
       "Not Listed / Othe               19\n",
       "Premenstrual Syndrome           11\n",
       "Postmenopausal Symptoms          6\n",
       "Gonadotropin Inhibition          1\n",
       "Name: condition, dtype: int64"
      ]
     },
     "execution_count": 19,
     "metadata": {},
     "output_type": "execute_result"
    }
   ],
   "source": [
    "bc_data['condition'].value_counts()"
   ]
  },
  {
   "cell_type": "code",
   "execution_count": 20,
   "metadata": {},
   "outputs": [
    {
     "data": {
      "text/plain": [
       "Levonorgestrel                        4896\n",
       "Etonogestrel                          4402\n",
       "Ethinyl estradiol / norethindrone     3619\n",
       "Nexplanon                             2883\n",
       "Ethinyl estradiol / norgestimate      2682\n",
       "Ethinyl estradiol / levonorgestrel    2400\n",
       "Implanon                              1496\n",
       "Name: drugName, dtype: int64"
      ]
     },
     "execution_count": 20,
     "metadata": {},
     "output_type": "execute_result"
    }
   ],
   "source": [
    "bc_data['drugName'].value_counts()"
   ]
  },
  {
   "cell_type": "code",
   "execution_count": 21,
   "metadata": {},
   "outputs": [
    {
     "name": "stdout",
     "output_type": "stream",
     "text": [
      "<class 'pandas.core.frame.DataFrame'>\n",
      "Int64Index: 22378 entries, 42 to 161273\n",
      "Data columns (total 6 columns):\n",
      " #   Column       Non-Null Count  Dtype  \n",
      "---  ------       --------------  -----  \n",
      " 0   drugName     22378 non-null  object \n",
      " 1   condition    22378 non-null  object \n",
      " 2   review       22378 non-null  object \n",
      " 3   rating       22378 non-null  float64\n",
      " 4   date         22378 non-null  object \n",
      " 5   usefulCount  22378 non-null  int64  \n",
      "dtypes: float64(1), int64(1), object(4)\n",
      "memory usage: 1.2+ MB\n"
     ]
    }
   ],
   "source": [
    "bc_data.info()"
   ]
  },
  {
   "cell_type": "code",
   "execution_count": 22,
   "metadata": {},
   "outputs": [],
   "source": [
    "# Create new column called 'labels' that will have the target variables\n",
    "bc_data['sentiment'] = ['Positive' if x > 7.0 else 'Negative' for x in bc_data['rating']]"
   ]
  },
  {
   "cell_type": "markdown",
   "metadata": {},
   "source": [
    "### Analyze the median rating based on condition"
   ]
  },
  {
   "cell_type": "code",
   "execution_count": 23,
   "metadata": {
    "scrolled": true
   },
   "outputs": [
    {
     "data": {
      "image/png": "[encoded data removed]",
      "text/plain": [
       "<Figure size 1800x720 with 1 Axes>"
      ]
     },
     "metadata": {
      "needs_background": "light"
     },
     "output_type": "display_data"
    }
   ],
   "source": [
    "median_values = bc_data.groupby('condition')['rating'].median()\n",
    "\n",
    "# Create bar chart\n",
    "fig, ax = plt.subplots(figsize = (25, 10))\n",
    "ax.bar(median_values.index, median_values.values)\n",
    "plt.xticks(rotation=45)\n",
    "\n",
    "# Set axis labels and title\n",
    "ax.set_xlabel('Condition')\n",
    "ax.set_ylabel('Median Values')\n",
    "ax.set_title('Median Values by Group')\n",
    "\n",
    "# Show plot\n",
    "plt.show()"
   ]
  },
  {
   "cell_type": "code",
   "execution_count": 24,
   "metadata": {
    "scrolled": true
   },
   "outputs": [
    {
     "data": {
      "text/plain": [
       "10.0    1025\n",
       "9.0      216\n",
       "1.0      155\n",
       "8.0      106\n",
       "7.0       43\n",
       "5.0       43\n",
       "6.0       27\n",
       "4.0       14\n",
       "3.0       13\n",
       "2.0        9\n",
       "Name: rating, dtype: int64"
      ]
     },
     "execution_count": 24,
     "metadata": {},
     "output_type": "execute_result"
    }
   ],
   "source": [
    "bc_data.loc[bc_data['condition'] == 'Emergency Contraception'].rating.value_counts()"
   ]
  },
  {
   "cell_type": "markdown",
   "metadata": {},
   "source": [
    "### Create columns that count emphasis and capital letters in text, as this could express sentiment"
   ]
  },
  {
   "cell_type": "code",
   "execution_count": 25,
   "metadata": {},
   "outputs": [],
   "source": [
    "### Creating a 'punc_emphasis' column that scores how many exclamation points and question marks are in the text\n",
    "\n",
    "bc_data['punc_emphasis'] = bc_data['review'].apply(lambda x: sum([1 for char in x if char in ['!', '?']]))\n",
    "\n",
    "### Creating a 'capt_emphasis' column that scores how many capitalized words are in the text\n",
    "\n",
    "bc_data['capt_emphasis'] = bc_data['review'].apply(lambda x: sum([1 for word in x.split() if word.isupper()]))"
   ]
  },
  {
   "cell_type": "code",
   "execution_count": 26,
   "metadata": {
    "scrolled": true
   },
   "outputs": [
    {
     "data": {
      "text/html": [
       "<div>\n",
       "<style scoped>\n",
       "    .dataframe tbody tr th:only-of-type {\n",
       "        vertical-align: middle;\n",
       "    }\n",
       "\n",
       "    .dataframe tbody tr th {\n",
       "        vertical-align: top;\n",
       "    }\n",
       "\n",
       "    .dataframe thead th {\n",
       "        text-align: right;\n",
       "    }\n",
       "</style>\n",
       "<table border=\"1\" class=\"dataframe\">\n",
       "  <thead>\n",
       "    <tr style=\"text-align: right;\">\n",
       "      <th></th>\n",
       "      <th>drugName</th>\n",
       "      <th>condition</th>\n",
       "      <th>review</th>\n",
       "      <th>rating</th>\n",
       "      <th>date</th>\n",
       "      <th>usefulCount</th>\n",
       "      <th>sentiment</th>\n",
       "      <th>punc_emphasis</th>\n",
       "      <th>capt_emphasis</th>\n",
       "    </tr>\n",
       "  </thead>\n",
       "  <tbody>\n",
       "    <tr>\n",
       "      <th>42</th>\n",
       "      <td>Levonorgestrel</td>\n",
       "      <td>Emergency Contraception</td>\n",
       "      <td>\"I want to share my experience to possibly ease some of the ladies out there.\\r\\nThe incident occur in Nov 18 (the condom broke) and it was 4 days after my period ended and approximately 4 days before ovulation. This means I was fertile. \\r\\nwhen we noticed that the condom broke, we immediately bought Plan B One Step and was taken about 45 minutes or an hour later. \\r\\nThe sooner you take the greater the chances it will work.\\r\\nSo I waited anxiously, praying I get my period. I felt side effects such as fatigue, bloated, nauseous, cramps, and moody. I was that these might be  this pregnancy symptoms. \\r\\nI waited exactly two weeks and I got my period. I was the happiest person ever. My period was here early by approximately 3-4 days. Good luck.\"</td>\n",
       "      <td>10.0</td>\n",
       "      <td>December 28, 2013</td>\n",
       "      <td>20</td>\n",
       "      <td>Positive</td>\n",
       "      <td>0</td>\n",
       "      <td>10</td>\n",
       "    </tr>\n",
       "    <tr>\n",
       "      <th>50</th>\n",
       "      <td>Etonogestrel</td>\n",
       "      <td>Birth Control</td>\n",
       "      <td>\"I&amp;#039;ve had this birth control for a year now and at first things were going good, I only had a period once and never had one since but now I have super bad anxiety, I would constantly think I was pregnant, would waste my money on pregnancy test even though I am NOT pregnant and my depression was very bad and honestly , I really don&amp;#039;t think it&amp;#039;s worth it at all. I&amp;#039;m getting it removed tomorrow and I most likely am going to have to be in therapy.\"</td>\n",
       "      <td>3.0</td>\n",
       "      <td>August 15, 2017</td>\n",
       "      <td>0</td>\n",
       "      <td>Negative</td>\n",
       "      <td>0</td>\n",
       "      <td>8</td>\n",
       "    </tr>\n",
       "    <tr>\n",
       "      <th>53</th>\n",
       "      <td>Etonogestrel</td>\n",
       "      <td>Birth Control</td>\n",
       "      <td>\"So I first got the nexplanon in July of 2014, for the first 5 months I was fine, I didn&amp;#039;t get my period and if I did it was random spotting (very light) but around January I noticed I was very emotional EVERYTHING made me cry. Then my period started coming twice a month with horrific cramps. Or I would spot for 2-3 weeks have a week where I thought It was over and started spotting again. I&amp;#039;ve now had it for 13 months and it does the job because I havent gotten pregnant. But that&amp;#039;s only because I haven&amp;#039;t been able to have sex cause I don&amp;#039;t know when my period is going to come\"</td>\n",
       "      <td>5.0</td>\n",
       "      <td>August 28, 2015</td>\n",
       "      <td>7</td>\n",
       "      <td>Negative</td>\n",
       "      <td>0</td>\n",
       "      <td>12</td>\n",
       "    </tr>\n",
       "    <tr>\n",
       "      <th>70</th>\n",
       "      <td>Ethinyl estradiol / norethindrone</td>\n",
       "      <td>Birth Control</td>\n",
       "      <td>\"I was started on Gildess 1/20 but then was switched to Blisovi as Gildess was recalled. I always had the clearest skin and now that I&amp;#039;ve been taking Blisovi I&amp;#039;ll have random break outs and I&amp;#039;ve gained some weight as well. I do not recommend. I can&amp;#039;t wait to talk to my gynecologist to switch ASAP.\"</td>\n",
       "      <td>3.0</td>\n",
       "      <td>February 7, 2017</td>\n",
       "      <td>4</td>\n",
       "      <td>Negative</td>\n",
       "      <td>0</td>\n",
       "      <td>5</td>\n",
       "    </tr>\n",
       "    <tr>\n",
       "      <th>76</th>\n",
       "      <td>Ethinyl estradiol / levonorgestrel</td>\n",
       "      <td>Birth Control</td>\n",
       "      <td>\"I just started taking this birth control about 12 days ago when I started my period, and I&amp;#039;m still bleeding as if I&amp;#039;m still on my period. The flow is light however the length of my average period is 2 weeks when I wasn&amp;#039;t on birth control. So maybe the medication is altering my system %u2026I do feel nauseous and I crave like crazy. I do feel a little depressed because my period isn&amp;#039;t gone yet but overall it \\r\\nseems to be a good birth control so far. \"</td>\n",
       "      <td>9.0</td>\n",
       "      <td>July 16, 2011</td>\n",
       "      <td>4</td>\n",
       "      <td>Positive</td>\n",
       "      <td>0</td>\n",
       "      <td>5</td>\n",
       "    </tr>\n",
       "  </tbody>\n",
       "</table>\n",
       "</div>"
      ],
      "text/plain": [
       "                              drugName                condition  \\\n",
       "42                      Levonorgestrel  Emergency Contraception   \n",
       "50                        Etonogestrel            Birth Control   \n",
       "53                        Etonogestrel            Birth Control   \n",
       "70   Ethinyl estradiol / norethindrone            Birth Control   \n",
       "76  Ethinyl estradiol / levonorgestrel            Birth Control   \n",
       "\n",
       "                                                                                                                                                                                                                                                                                                                                                                                                                                                                                                                                                                                                                                                                                                                                                                                 review  \\\n",
       "42  \"I want to share my experience to possibly ease some of the ladies out there.\\r\\nThe incident occur in Nov 18 (the condom broke) and it was 4 days after my period ended and approximately 4 days before ovulation. This means I was fertile. \\r\\nwhen we noticed that the condom broke, we immediately bought Plan B One Step and was taken about 45 minutes or an hour later. \\r\\nThe sooner you take the greater the chances it will work.\\r\\nSo I waited anxiously, praying I get my period. I felt side effects such as fatigue, bloated, nauseous, cramps, and moody. I was that these might be  this pregnancy symptoms. \\r\\nI waited exactly two weeks and I got my period. I was the happiest person ever. My period was here early by approximately 3-4 days. Good luck.\"   \n",
       "50                                                                                                                                                                                                                                                                                                 \"I&#039;ve had this birth control for a year now and at first things were going good, I only had a period once and never had one since but now I have super bad anxiety, I would constantly think I was pregnant, would waste my money on pregnancy test even though I am NOT pregnant and my depression was very bad and honestly , I really don&#039;t think it&#039;s worth it at all. I&#039;m getting it removed tomorrow and I most likely am going to have to be in therapy.\"   \n",
       "53                                                                                                                                                     \"So I first got the nexplanon in July of 2014, for the first 5 months I was fine, I didn&#039;t get my period and if I did it was random spotting (very light) but around January I noticed I was very emotional EVERYTHING made me cry. Then my period started coming twice a month with horrific cramps. Or I would spot for 2-3 weeks have a week where I thought It was over and started spotting again. I&#039;ve now had it for 13 months and it does the job because I havent gotten pregnant. But that&#039;s only because I haven&#039;t been able to have sex cause I don&#039;t know when my period is going to come\"   \n",
       "70                                                                                                                                                                                                                                                                                                                                                                                                                                                      \"I was started on Gildess 1/20 but then was switched to Blisovi as Gildess was recalled. I always had the clearest skin and now that I&#039;ve been taking Blisovi I&#039;ll have random break outs and I&#039;ve gained some weight as well. I do not recommend. I can&#039;t wait to talk to my gynecologist to switch ASAP.\"   \n",
       "76                                                                                                                                                                                                                                                                                       \"I just started taking this birth control about 12 days ago when I started my period, and I&#039;m still bleeding as if I&#039;m still on my period. The flow is light however the length of my average period is 2 weeks when I wasn&#039;t on birth control. So maybe the medication is altering my system %u2026I do feel nauseous and I crave like crazy. I do feel a little depressed because my period isn&#039;t gone yet but overall it \\r\\nseems to be a good birth control so far. \"   \n",
       "\n",
       "    rating               date  usefulCount sentiment  punc_emphasis  \\\n",
       "42    10.0  December 28, 2013           20  Positive              0   \n",
       "50     3.0    August 15, 2017            0  Negative              0   \n",
       "53     5.0    August 28, 2015            7  Negative              0   \n",
       "70     3.0   February 7, 2017            4  Negative              0   \n",
       "76     9.0      July 16, 2011            4  Positive              0   \n",
       "\n",
       "    capt_emphasis  \n",
       "42             10  \n",
       "50              8  \n",
       "53             12  \n",
       "70              5  \n",
       "76              5  "
      ]
     },
     "execution_count": 26,
     "metadata": {},
     "output_type": "execute_result"
    }
   ],
   "source": [
    "bc_data.head()"
   ]
  },
  {
   "cell_type": "code",
   "execution_count": 27,
   "metadata": {},
   "outputs": [
    {
     "data": {
      "text/plain": [
       "Negative    0.535526\n",
       "Positive    0.464474\n",
       "Name: sentiment, dtype: float64"
      ]
     },
     "execution_count": 27,
     "metadata": {},
     "output_type": "execute_result"
    }
   ],
   "source": [
    "bc_data['sentiment'].value_counts(normalize=True)"
   ]
  },
  {
   "cell_type": "markdown",
   "metadata": {},
   "source": [
    "### Sentiment Analysis Against Condition\n",
    "- Within the conditions we have selected, how do the reviews look pertaining to each condition?"
   ]
  },
  {
   "cell_type": "code",
   "execution_count": 28,
   "metadata": {},
   "outputs": [
    {
     "data": {
      "image/png": "[encoded data removed]",
      "text/plain": [
       "<Figure size 2520x720 with 1 Axes>"
      ]
     },
     "metadata": {
      "needs_background": "light"
     },
     "output_type": "display_data"
    }
   ],
   "source": [
    "# Let's try plotting sentiment against groups\n",
    "\n",
    "fig = plt.figure(figsize = (35, 10))\n",
    "\n",
    "hue_order = ['Positive', 'Negative']\n",
    "sns.countplot(x='condition', hue='sentiment', data=bc_data, hue_order=hue_order, palette='tab10', order = bc_data['condition'].value_counts().index)\n",
    "\n",
    "# plt.xticks(rotation=45)\n",
    "\n",
    "plt.xlabel('Condition')\n",
    "plt.ylabel('Count')\n",
    "plt.title('Distribution of Conditions by Review Sentiment');"
   ]
  },
  {
   "cell_type": "code",
   "execution_count": 29,
   "metadata": {},
   "outputs": [
    {
     "data": {
      "image/png": "[encoded data removed]",
      "text/plain": [
       "<Figure size 1800x720 with 1 Axes>"
      ]
     },
     "metadata": {
      "needs_background": "light"
     },
     "output_type": "display_data"
    }
   ],
   "source": [
    "# Let's try plotting sentiment against groups\n",
    "\n",
    "fig = plt.figure(figsize = (25, 10))\n",
    "\n",
    "\n",
    "sns.countplot(x='drugName', hue='sentiment', data=bc_data, hue_order=hue_order, palette='tab10')\n",
    "\n",
    "# plt.xticks(rotation=45)\n",
    "plt.xlabel('Drug Names')\n",
    "plt.ylabel('Count')\n",
    "plt.title('Distribution of Birth Control Drugs by Review Sentiment');"
   ]
  },
  {
   "cell_type": "markdown",
   "metadata": {},
   "source": [
    "### Can we do anything with 'UsefulCount'?"
   ]
  },
  {
   "cell_type": "code",
   "execution_count": 30,
   "metadata": {
    "scrolled": false
   },
   "outputs": [
    {
     "data": {
      "text/plain": [
       "(-1.248, 415.667]     22371\n",
       "(415.667, 831.333]        6\n",
       "(831.333, 1247.0]         1\n",
       "Name: usefulCount, dtype: int64"
      ]
     },
     "execution_count": 30,
     "metadata": {},
     "output_type": "execute_result"
    }
   ],
   "source": [
    "bc_data['usefulCount'].value_counts(bins=3)"
   ]
  },
  {
   "cell_type": "code",
   "execution_count": 31,
   "metadata": {},
   "outputs": [
    {
     "data": {
      "text/plain": [
       "0"
      ]
     },
     "execution_count": 31,
     "metadata": {},
     "output_type": "execute_result"
    }
   ],
   "source": [
    "bc_data['usefulCount'].min()"
   ]
  },
  {
   "cell_type": "code",
   "execution_count": 32,
   "metadata": {
    "scrolled": true
   },
   "outputs": [
    {
     "data": {
      "text/plain": [
       "count    22378.000000\n",
       "mean         8.008535\n",
       "std         18.501084\n",
       "min          0.000000\n",
       "25%          2.000000\n",
       "50%          4.000000\n",
       "75%          9.000000\n",
       "max       1247.000000\n",
       "Name: usefulCount, dtype: float64"
      ]
     },
     "execution_count": 32,
     "metadata": {},
     "output_type": "execute_result"
    }
   ],
   "source": [
    "bc_data['usefulCount'].describe()"
   ]
  },
  {
   "cell_type": "markdown",
   "metadata": {},
   "source": [
    "- Not sure if this is too useful of a feature, maybe we could filter the reviews that were found useful above a certain threshold to take in user input."
   ]
  },
  {
   "cell_type": "markdown",
   "metadata": {},
   "source": [
    "### After research on birth controls, wanted to read what reviews are saying"
   ]
  },
  {
   "cell_type": "code",
   "execution_count": 33,
   "metadata": {},
   "outputs": [
    {
     "data": {
      "text/html": [
       "<div>\n",
       "<style scoped>\n",
       "    .dataframe tbody tr th:only-of-type {\n",
       "        vertical-align: middle;\n",
       "    }\n",
       "\n",
       "    .dataframe tbody tr th {\n",
       "        vertical-align: top;\n",
       "    }\n",
       "\n",
       "    .dataframe thead th {\n",
       "        text-align: right;\n",
       "    }\n",
       "</style>\n",
       "<table border=\"1\" class=\"dataframe\">\n",
       "  <thead>\n",
       "    <tr style=\"text-align: right;\">\n",
       "      <th></th>\n",
       "      <th>drugName</th>\n",
       "      <th>condition</th>\n",
       "      <th>review</th>\n",
       "      <th>rating</th>\n",
       "      <th>date</th>\n",
       "      <th>usefulCount</th>\n",
       "      <th>sentiment</th>\n",
       "      <th>punc_emphasis</th>\n",
       "      <th>capt_emphasis</th>\n",
       "    </tr>\n",
       "  </thead>\n",
       "  <tbody>\n",
       "    <tr>\n",
       "      <th>42</th>\n",
       "      <td>Levonorgestrel</td>\n",
       "      <td>Emergency Contraception</td>\n",
       "      <td>\"I want to share my experience to possibly ease some of the ladies out there.\\r\\nThe incident occur in Nov 18 (the condom broke) and it was 4 days after my period ended and approximately 4 days before ovulation. This means I was fertile. \\r\\nwhen we noticed that the condom broke, we immediately bought Plan B One Step and was taken about 45 minutes or an hour later. \\r\\nThe sooner you take the greater the chances it will work.\\r\\nSo I waited anxiously, praying I get my period. I felt side effects such as fatigue, bloated, nauseous, cramps, and moody. I was that these might be  this pregnancy symptoms. \\r\\nI waited exactly two weeks and I got my period. I was the happiest person ever. My period was here early by approximately 3-4 days. Good luck.\"</td>\n",
       "      <td>10.0</td>\n",
       "      <td>December 28, 2013</td>\n",
       "      <td>20</td>\n",
       "      <td>Positive</td>\n",
       "      <td>0</td>\n",
       "      <td>10</td>\n",
       "    </tr>\n",
       "    <tr>\n",
       "      <th>82</th>\n",
       "      <td>Levonorgestrel</td>\n",
       "      <td>Emergency Contraception</td>\n",
       "      <td>\"Had unprotected sex near my ovulation date and freaked out so I went to go get the Plan B pill. Was $24 since my insurance covered some of it and had my boyfriend pay for it. I was really nauseous on and off, had headaches and was dizzy. I was REALLY tired too. My period came two weeks earlier and it was really bad. Had big blood clots, really heavy period. The cramps were terrible. It was an unpleasant experience. BUT no baby. So that&amp;#039;s good. Really helped. Really wish guys would go through this too. It&amp;#039;s really unfair all we women go through.\"</td>\n",
       "      <td>10.0</td>\n",
       "      <td>March 20, 2016</td>\n",
       "      <td>14</td>\n",
       "      <td>Positive</td>\n",
       "      <td>0</td>\n",
       "      <td>6</td>\n",
       "    </tr>\n",
       "    <tr>\n",
       "      <th>92</th>\n",
       "      <td>Levonorgestrel</td>\n",
       "      <td>Birth Control</td>\n",
       "      <td>\"This is the third day I&amp;#039;ve had skyla and so far my experience has been excellent. I&amp;#039;d suggest taking ibuprofen all throughout the day and put a heating pad on your stomach (what i did). The procedure was uncomfortable and painful (i cried) but so far, extremely worth it. The day after I got it the bleeding significantly reduced, and today it&amp;#039;s hardly bleeding. First day was the worst but definitely doable. As far as being emotional. The first day I was very irritable but I&amp;#039;m assuming it was because I was hurting and hungry all day. Other than that I&amp;#039;ve been great!\"</td>\n",
       "      <td>10.0</td>\n",
       "      <td>August 26, 2015</td>\n",
       "      <td>1</td>\n",
       "      <td>Positive</td>\n",
       "      <td>1</td>\n",
       "      <td>3</td>\n",
       "    </tr>\n",
       "    <tr>\n",
       "      <th>99</th>\n",
       "      <td>Levonorgestrel</td>\n",
       "      <td>Birth Control</td>\n",
       "      <td>\"I went in to have my Skyla placed yesterday morning. After reading all of these reviews I was hyperventilating and crying on my way there, bc I did not want to experience &amp;quot;the worst pain of my life&amp;quot;. However, it was a complete waste of tears and energy. Before the procedure, I started doing heavy breathing, similar to pregnancy breaths, bc I was so nervous and I can tell you I felt NOTHING. There was a little bit of pressure, but nothing compared to what I&amp;#039;ve read on here. Probably a 2/10. It was over in 30 seconds, and as soon as she was done, the pressure vanished. I was shocked. I went to work from 5:45-11:30, &amp;amp; I managed with mild cramping.I cant speak for long term yet, but don&amp;#039;t let other women scare you out of this, its very worth it!\"</td>\n",
       "      <td>10.0</td>\n",
       "      <td>December 12, 2015</td>\n",
       "      <td>0</td>\n",
       "      <td>Positive</td>\n",
       "      <td>1</td>\n",
       "      <td>11</td>\n",
       "    </tr>\n",
       "    <tr>\n",
       "      <th>103</th>\n",
       "      <td>Levonorgestrel</td>\n",
       "      <td>Emergency Contraception</td>\n",
       "      <td>\"on March 21-25 I had my period. On March 26 I had an accident. My cycle ranges from 28-33 days. I took plan B within 1 hour that same day March 26. That day I got cramps and got really tired. The next day I experienced diahrrea. On March 31st I started bleeding again which scared me and it lasted 4 days. The bleeding was really light. I spent all April worrying.  I took over 10 home pregnancy test and they were all negative. Well today I started bleeding again which makes me 3 days late from my actual period. Yet on time from the plan B period. I never want to go through this ever again.\"</td>\n",
       "      <td>8.0</td>\n",
       "      <td>April 27, 2015</td>\n",
       "      <td>9</td>\n",
       "      <td>Positive</td>\n",
       "      <td>0</td>\n",
       "      <td>12</td>\n",
       "    </tr>\n",
       "    <tr>\n",
       "      <th>...</th>\n",
       "      <td>...</td>\n",
       "      <td>...</td>\n",
       "      <td>...</td>\n",
       "      <td>...</td>\n",
       "      <td>...</td>\n",
       "      <td>...</td>\n",
       "      <td>...</td>\n",
       "      <td>...</td>\n",
       "      <td>...</td>\n",
       "    </tr>\n",
       "    <tr>\n",
       "      <th>161156</th>\n",
       "      <td>Levonorgestrel</td>\n",
       "      <td>Birth Control</td>\n",
       "      <td>\"I had Skyla placed in May. I have gained about 20lbs since then, which sucks. I&amp;#039;m not good with birth control pills so I guess I&amp;#039;m stuck with the weight gain.\"</td>\n",
       "      <td>6.0</td>\n",
       "      <td>September 18, 2016</td>\n",
       "      <td>5</td>\n",
       "      <td>Negative</td>\n",
       "      <td>0</td>\n",
       "      <td>3</td>\n",
       "    </tr>\n",
       "    <tr>\n",
       "      <th>161161</th>\n",
       "      <td>Levonorgestrel</td>\n",
       "      <td>Emergency Contraception</td>\n",
       "      <td>\"I had unprotected sex August 29 which was a Monday and after we finished he told me that he came inside me, and let me tell y&amp;#039;all I was fertile and i ovulated on Wednesday!! Well I started freaking out and took the pill 40 min after. Tuesday morning I did feel some of the side effects but nothing too major!! Your period is either going to be early or late but i wasn&amp;#039;t supposed to get my period until 2 weeks from the day I had sex. Fortunately I got it early six days later so it does work!! Also they say that if you weigh more then 160 or so it won&amp;#039;t be as effective and well I&amp;#039;m a pretty curvy girl I weigh 250 and it worked on me so Don&amp;#039;t believe that stupid theory!!! Hope it was helpful!!\"</td>\n",
       "      <td>10.0</td>\n",
       "      <td>September 16, 2016</td>\n",
       "      <td>15</td>\n",
       "      <td>Positive</td>\n",
       "      <td>11</td>\n",
       "      <td>7</td>\n",
       "    </tr>\n",
       "    <tr>\n",
       "      <th>161165</th>\n",
       "      <td>Levonorgestrel</td>\n",
       "      <td>Birth Control</td>\n",
       "      <td>\"I had my Mirena in for a year and half and just had it removed because my husband and I want another child. Insertion was uncomfortable but removal was way worse. I went in thinking that removal was going to be this quick painless thing, but that did not happen. The doctor could not locate the string, so she had to do an ultrasound to make sure it was still in place. It was there alright but the string was cut way to short. So they gave me a shot of numbing medicine in my cervix went into my uterus and finally retrieved it. \"</td>\n",
       "      <td>2.0</td>\n",
       "      <td>January 6, 2011</td>\n",
       "      <td>3</td>\n",
       "      <td>Negative</td>\n",
       "      <td>0</td>\n",
       "      <td>3</td>\n",
       "    </tr>\n",
       "    <tr>\n",
       "      <th>161201</th>\n",
       "      <td>Levonorgestrel</td>\n",
       "      <td>Birth Control</td>\n",
       "      <td>\"I got the IUD a little over two months ago after searching forever for a birth control that has good side affects and doesn&amp;#039;t make you gain weight. I haven&amp;#039;t gained a single pound from being on it. My periods are have still come but they are super light and last about 3 days, they are also sporadic but I don&amp;#039;t blame it too much since before my periods used to last 7 days and were sporadic anyways.I have little to no cramping and when I do cramp it lasts about 3 days and usually the 3 days I lightly bleed. Also every now and then I check for the strings and they are always there in place. The reason I am giving it 9/10 is because how many stories I hear about having to have surgery and it makes me stress about what if.\"</td>\n",
       "      <td>9.0</td>\n",
       "      <td>August 14, 2016</td>\n",
       "      <td>7</td>\n",
       "      <td>Positive</td>\n",
       "      <td>0</td>\n",
       "      <td>9</td>\n",
       "    </tr>\n",
       "    <tr>\n",
       "      <th>161257</th>\n",
       "      <td>Levonorgestrel</td>\n",
       "      <td>Birth Control</td>\n",
       "      <td>\"There are some bad reviews about Kyleena - so I wanted to share my experience. This IUD is for women that have not yet had children as the IUD is smaller than the Mirena. I expected pressure during the insertion process but I felt pain. On a scale from 1 to 10 it was a strong 6. I may have a high pain tolerance because my doctor laughed &amp;amp; said when she got hers she started cursing at the ceiling. Right after I felt fine &amp;amp; the nurse looked at me funnily. A couple of hours later I knew why. She expected me to have some severe cramping immediately after - but it took my uterus an hour to deliver those. They lasted through the night. It&amp;rsquo;s been almost a week and everything is okay! Using condoms until my OB is sure the IUD is in the right place.\"</td>\n",
       "      <td>10.0</td>\n",
       "      <td>December 6, 2017</td>\n",
       "      <td>0</td>\n",
       "      <td>Positive</td>\n",
       "      <td>1</td>\n",
       "      <td>11</td>\n",
       "    </tr>\n",
       "  </tbody>\n",
       "</table>\n",
       "<p>4896 rows × 9 columns</p>\n",
       "</div>"
      ],
      "text/plain": [
       "              drugName                condition  \\\n",
       "42      Levonorgestrel  Emergency Contraception   \n",
       "82      Levonorgestrel  Emergency Contraception   \n",
       "92      Levonorgestrel            Birth Control   \n",
       "99      Levonorgestrel            Birth Control   \n",
       "103     Levonorgestrel  Emergency Contraception   \n",
       "...                ...                      ...   \n",
       "161156  Levonorgestrel            Birth Control   \n",
       "161161  Levonorgestrel  Emergency Contraception   \n",
       "161165  Levonorgestrel            Birth Control   \n",
       "161201  Levonorgestrel            Birth Control   \n",
       "161257  Levonorgestrel            Birth Control   \n",
       "\n",
       "                                                                                                                                                                                                                                                                                                                                                                                                                                                                                                                                                                                                                                                                                                                                                                                                           review  \\\n",
       "42                            \"I want to share my experience to possibly ease some of the ladies out there.\\r\\nThe incident occur in Nov 18 (the condom broke) and it was 4 days after my period ended and approximately 4 days before ovulation. This means I was fertile. \\r\\nwhen we noticed that the condom broke, we immediately bought Plan B One Step and was taken about 45 minutes or an hour later. \\r\\nThe sooner you take the greater the chances it will work.\\r\\nSo I waited anxiously, praying I get my period. I felt side effects such as fatigue, bloated, nauseous, cramps, and moody. I was that these might be  this pregnancy symptoms. \\r\\nI waited exactly two weeks and I got my period. I was the happiest person ever. My period was here early by approximately 3-4 days. Good luck.\"   \n",
       "82                                                                                                                                                                                                                             \"Had unprotected sex near my ovulation date and freaked out so I went to go get the Plan B pill. Was $24 since my insurance covered some of it and had my boyfriend pay for it. I was really nauseous on and off, had headaches and was dizzy. I was REALLY tired too. My period came two weeks earlier and it was really bad. Had big blood clots, really heavy period. The cramps were terrible. It was an unpleasant experience. BUT no baby. So that&#039;s good. Really helped. Really wish guys would go through this too. It&#039;s really unfair all we women go through.\"   \n",
       "92                                                                                                                                                                                          \"This is the third day I&#039;ve had skyla and so far my experience has been excellent. I&#039;d suggest taking ibuprofen all throughout the day and put a heating pad on your stomach (what i did). The procedure was uncomfortable and painful (i cried) but so far, extremely worth it. The day after I got it the bleeding significantly reduced, and today it&#039;s hardly bleeding. First day was the worst but definitely doable. As far as being emotional. The first day I was very irritable but I&#039;m assuming it was because I was hurting and hungry all day. Other than that I&#039;ve been great!\"   \n",
       "99      \"I went in to have my Skyla placed yesterday morning. After reading all of these reviews I was hyperventilating and crying on my way there, bc I did not want to experience &quot;the worst pain of my life&quot;. However, it was a complete waste of tears and energy. Before the procedure, I started doing heavy breathing, similar to pregnancy breaths, bc I was so nervous and I can tell you I felt NOTHING. There was a little bit of pressure, but nothing compared to what I&#039;ve read on here. Probably a 2/10. It was over in 30 seconds, and as soon as she was done, the pressure vanished. I was shocked. I went to work from 5:45-11:30, &amp; I managed with mild cramping.I cant speak for long term yet, but don&#039;t let other women scare you out of this, its very worth it!\"   \n",
       "103                                                                                                                                                                                          \"on March 21-25 I had my period. On March 26 I had an accident. My cycle ranges from 28-33 days. I took plan B within 1 hour that same day March 26. That day I got cramps and got really tired. The next day I experienced diahrrea. On March 31st I started bleeding again which scared me and it lasted 4 days. The bleeding was really light. I spent all April worrying.  I took over 10 home pregnancy test and they were all negative. Well today I started bleeding again which makes me 3 days late from my actual period. Yet on time from the plan B period. I never want to go through this ever again.\"   \n",
       "...                                                                                                                                                                                                                                                                                                                                                                                                                                                                                                                                                                                                                                                                                                                                                                                                           ...   \n",
       "161156                                                                                                                                                                                                                                                                                                                                                                                                                                                                                                                                                                                                                                 \"I had Skyla placed in May. I have gained about 20lbs since then, which sucks. I&#039;m not good with birth control pills so I guess I&#039;m stuck with the weight gain.\"   \n",
       "161161                                                       \"I had unprotected sex August 29 which was a Monday and after we finished he told me that he came inside me, and let me tell y&#039;all I was fertile and i ovulated on Wednesday!! Well I started freaking out and took the pill 40 min after. Tuesday morning I did feel some of the side effects but nothing too major!! Your period is either going to be early or late but i wasn&#039;t supposed to get my period until 2 weeks from the day I had sex. Fortunately I got it early six days later so it does work!! Also they say that if you weigh more then 160 or so it won&#039;t be as effective and well I&#039;m a pretty curvy girl I weigh 250 and it worked on me so Don&#039;t believe that stupid theory!!! Hope it was helpful!!\"   \n",
       "161165                                                                                                                                                                                                                                                       \"I had my Mirena in for a year and half and just had it removed because my husband and I want another child. Insertion was uncomfortable but removal was way worse. I went in thinking that removal was going to be this quick painless thing, but that did not happen. The doctor could not locate the string, so she had to do an ultrasound to make sure it was still in place. It was there alright but the string was cut way to short. So they gave me a shot of numbing medicine in my cervix went into my uterus and finally retrieved it. \"   \n",
       "161201                                   \"I got the IUD a little over two months ago after searching forever for a birth control that has good side affects and doesn&#039;t make you gain weight. I haven&#039;t gained a single pound from being on it. My periods are have still come but they are super light and last about 3 days, they are also sporadic but I don&#039;t blame it too much since before my periods used to last 7 days and were sporadic anyways.I have little to no cramping and when I do cramp it lasts about 3 days and usually the 3 days I lightly bleed. Also every now and then I check for the strings and they are always there in place. The reason I am giving it 9/10 is because how many stories I hear about having to have surgery and it makes me stress about what if.\"   \n",
       "161257             \"There are some bad reviews about Kyleena - so I wanted to share my experience. This IUD is for women that have not yet had children as the IUD is smaller than the Mirena. I expected pressure during the insertion process but I felt pain. On a scale from 1 to 10 it was a strong 6. I may have a high pain tolerance because my doctor laughed &amp; said when she got hers she started cursing at the ceiling. Right after I felt fine &amp; the nurse looked at me funnily. A couple of hours later I knew why. She expected me to have some severe cramping immediately after - but it took my uterus an hour to deliver those. They lasted through the night. It&rsquo;s been almost a week and everything is okay! Using condoms until my OB is sure the IUD is in the right place.\"   \n",
       "\n",
       "        rating                date  usefulCount sentiment  punc_emphasis  \\\n",
       "42        10.0   December 28, 2013           20  Positive              0   \n",
       "82        10.0      March 20, 2016           14  Positive              0   \n",
       "92        10.0     August 26, 2015            1  Positive              1   \n",
       "99        10.0   December 12, 2015            0  Positive              1   \n",
       "103        8.0      April 27, 2015            9  Positive              0   \n",
       "...        ...                 ...          ...       ...            ...   \n",
       "161156     6.0  September 18, 2016            5  Negative              0   \n",
       "161161    10.0  September 16, 2016           15  Positive             11   \n",
       "161165     2.0     January 6, 2011            3  Negative              0   \n",
       "161201     9.0     August 14, 2016            7  Positive              0   \n",
       "161257    10.0    December 6, 2017            0  Positive              1   \n",
       "\n",
       "        capt_emphasis  \n",
       "42                 10  \n",
       "82                  6  \n",
       "92                  3  \n",
       "99                 11  \n",
       "103                12  \n",
       "...               ...  \n",
       "161156              3  \n",
       "161161              7  \n",
       "161165              3  \n",
       "161201              9  \n",
       "161257             11  \n",
       "\n",
       "[4896 rows x 9 columns]"
      ]
     },
     "execution_count": 33,
     "metadata": {},
     "output_type": "execute_result"
    }
   ],
   "source": [
    "bc_data[bc_data['drugName'] == 'Levonorgestrel']"
   ]
  },
  {
   "cell_type": "markdown",
   "metadata": {},
   "source": [
    "### Binning the years these reviews were written into two groups to see if there's a difference over time"
   ]
  },
  {
   "cell_type": "code",
   "execution_count": 34,
   "metadata": {},
   "outputs": [],
   "source": [
    "bc_data['date'] = pd.to_datetime(bc_data['date'])"
   ]
  },
  {
   "cell_type": "code",
   "execution_count": 35,
   "metadata": {},
   "outputs": [
    {
     "data": {
      "text/plain": [
       "count                   22378\n",
       "unique                   3014\n",
       "top       2015-10-21 00:00:00\n",
       "freq                       38\n",
       "first     2008-02-27 00:00:00\n",
       "last      2017-12-12 00:00:00\n",
       "Name: date, dtype: object"
      ]
     },
     "execution_count": 35,
     "metadata": {},
     "output_type": "execute_result"
    }
   ],
   "source": [
    "bc_data['date'].describe()"
   ]
  },
  {
   "cell_type": "code",
   "execution_count": 36,
   "metadata": {},
   "outputs": [
    {
     "data": {
      "text/plain": [
       "(2013-01-19, 2017-12-12]                       18297\n",
       "(2008-02-23 10:10:33.599999999, 2013-01-19]     4081\n",
       "Name: date, dtype: int64"
      ]
     },
     "execution_count": 36,
     "metadata": {},
     "output_type": "execute_result"
    }
   ],
   "source": [
    "bc_data['date'].value_counts(bins=2)"
   ]
  },
  {
   "cell_type": "code",
   "execution_count": 37,
   "metadata": {},
   "outputs": [],
   "source": [
    "# Create new column called 'date_column' that will have grouped time ranges of 2008-2012 and 2013-2017\n",
    "bc_data['date_column'] = ['2013-2017' if x.year > 2013 else '2008-2012' for x in bc_data['date']]"
   ]
  },
  {
   "cell_type": "markdown",
   "metadata": {},
   "source": [
    "### Can we see the difference in reviews of these drugs over time?"
   ]
  },
  {
   "cell_type": "code",
   "execution_count": 38,
   "metadata": {},
   "outputs": [
    {
     "data": {
      "image/png": "[encoded data removed]",
      "text/plain": [
       "<Figure size 1800x720 with 1 Axes>"
      ]
     },
     "metadata": {
      "needs_background": "light"
     },
     "output_type": "display_data"
    }
   ],
   "source": [
    "# Let's try plotting sentiment of Levonorgestrel against the two assigned time periods\n",
    "\n",
    "fig = plt.figure(figsize = (25, 10))\n",
    "\n",
    "sns.countplot(x='date_column', hue='sentiment', data=bc_data[bc_data['drugName'] == 'Levonorgestrel'], hue_order=hue_order, palette='tab10')\n",
    "\n",
    "# plt.xticks(rotation=45)\n",
    "plt.xlabel('Time Periods')\n",
    "plt.ylabel('Count')\n",
    "plt.title('Distribution of Levonorgestrel Sentiment by Two Time Periods');"
   ]
  },
  {
   "cell_type": "code",
   "execution_count": 39,
   "metadata": {},
   "outputs": [
    {
     "data": {
      "image/png": "[encoded data removed]",
      "text/plain": [
       "<Figure size 1800x720 with 1 Axes>"
      ]
     },
     "metadata": {
      "needs_background": "light"
     },
     "output_type": "display_data"
    }
   ],
   "source": [
    "# Let's try plotting sentiment of Etonogestrel against the two assigned time periods\n",
    "\n",
    "fig = plt.figure(figsize = (25, 10))\n",
    "\n",
    "sns.countplot(x='date_column', hue='sentiment', data=bc_data[bc_data['drugName'] == 'Etonogestrel'], hue_order=hue_order, palette='tab10')\n",
    "\n",
    "# plt.xticks(rotation=45)\n",
    "plt.xlabel('Time Periods')\n",
    "plt.ylabel('Count')\n",
    "plt.title('Distribution of Etonogestrel Sentiment by Two Time Periods');"
   ]
  },
  {
   "cell_type": "code",
   "execution_count": 40,
   "metadata": {},
   "outputs": [
    {
     "data": {
      "image/png": "[encoded data removed]",
      "text/plain": [
       "<Figure size 1800x720 with 1 Axes>"
      ]
     },
     "metadata": {
      "needs_background": "light"
     },
     "output_type": "display_data"
    }
   ],
   "source": [
    "# Let's try plotting sentiment of Ethinyl estradiol / norethindrone against the two assigned time periods\n",
    "\n",
    "fig = plt.figure(figsize = (25, 10))\n",
    "\n",
    "sns.countplot(x='date_column', hue='sentiment', data=bc_data[bc_data['drugName'] == 'Ethinyl estradiol / norethindrone'], hue_order=hue_order, palette='tab10')\n",
    "\n",
    "# plt.xticks(rotation=45)\n",
    "plt.xlabel('Time Periods')\n",
    "plt.ylabel('Count')\n",
    "plt.title('Distribution of Ethinyl estradiol / norethindrone Sentiment by Two Time Periods');"
   ]
  },
  {
   "cell_type": "markdown",
   "metadata": {},
   "source": [
    "### Cleaning Text Reviews"
   ]
  },
  {
   "cell_type": "code",
   "execution_count": 41,
   "metadata": {},
   "outputs": [],
   "source": [
    "# Create function that will lowercase the text\n",
    "\n",
    "def lower_case(text):\n",
    "    text = text.lower()\n",
    "    return text\n",
    "\n",
    "# Create function to remove the html apostrophes in the text\n",
    "\n",
    "def apostrophe(text):\n",
    "    text = text.replace('&#039;', '\\'')\n",
    "    return text\n",
    "\n",
    "# Want to expand the contractions so we can see if these words have importance\n",
    "\n",
    "def fixcontractions(text):\n",
    "    text = contractions.fix(text)\n",
    "    return text\n",
    "\n",
    "# Create a function that uses a regex tokenizer to remove punctuation but ignores contraction apostrophes\n",
    "\n",
    "def remove_punctuation(text):\n",
    "    tokenizer = RegexpTokenizer(r'\\w+\\'?\\w+')\n",
    "    text = tokenizer.tokenize(text)\n",
    "    text = ' '.join(text)\n",
    "    return text\n",
    "\n",
    "# Remove stopwords from the reviews\n",
    "\n",
    "def remove_stopwords(text, stop_words_list = set(stopwords.words('english'))):\n",
    "    text = text.split()\n",
    "    text = [word for word in text if word not in stop_words_list]\n",
    "    text = ' '.join(text)\n",
    "    return text\n",
    "\n",
    "# Create a function that lemmatizes words\n",
    "\n",
    "def lemmatize(text):\n",
    "    lemmatizer = WordNetLemmatizer()\n",
    "    text = text.split()\n",
    "    text = [lemmatizer.lemmatize(word) for word in text]\n",
    "    text = ' '.join(text)\n",
    "    return text\n",
    "\n",
    "def clean_text(text):\n",
    "    text = lower_case(text)\n",
    "    text = apostrophe(text)\n",
    "    text = fixcontractions(text)\n",
    "    text = remove_punctuation(text)\n",
    "    text = remove_stopwords(text)\n",
    "    text = lemmatize(text)\n",
    "    return text"
   ]
  },
  {
   "cell_type": "code",
   "execution_count": 42,
   "metadata": {},
   "outputs": [
    {
     "data": {
      "text/plain": [
       "\"I have are not Tim's got a lovely bunch of coconuts\""
      ]
     },
     "execution_count": 42,
     "metadata": {},
     "output_type": "execute_result"
    }
   ],
   "source": [
    "# Manually testing the contractions.fix function\n",
    "contractions.fix(\"I've aren't Tim's got a lovely bunch of coconuts\")"
   ]
  },
  {
   "cell_type": "code",
   "execution_count": 43,
   "metadata": {},
   "outputs": [
    {
     "data": {
      "text/plain": [
       "'\"Started Nexplanon 2 months ago because I have a minimal amount of contraception&#039;s I can take due to my inability to take the hormone that is used in most birth controls. I&#039;m trying to give it time because it is one of my only options right now. But honestly if I had options I&#039;d get it removed.\\r\\nI&#039;ve never had acne problems in my life, and immediately broke out after getting it implanted. Sex drive is completely gone, and I used to have sex with my boyfriend a few days a week, now its completely forced and not even fun for me anymore. I mean I&#039;m on birth control because I like having sex but don&#039;t want to get pregnant, why take a birth control that takes away sex? Very unhappy and hope that I get it back with time or I&#039;m getting it removed.\"'"
      ]
     },
     "execution_count": 43,
     "metadata": {},
     "output_type": "execute_result"
    }
   ],
   "source": [
    "# Original review text location 6\n",
    "bc_data['review'][14]"
   ]
  },
  {
   "cell_type": "code",
   "execution_count": 44,
   "metadata": {},
   "outputs": [
    {
     "data": {
      "text/plain": [
       "\"started nexplanon month ago minimal amount contraception's take due inability take hormone used birth control trying give time one option right honestly option would get removed never acne problem life immediately broke getting implanted sex drive completely gone used sex boyfriend day week completely forced even fun anymore mean birth control like sex want get pregnant take birth control take away sex unhappy hope get back time getting removed\""
      ]
     },
     "execution_count": 44,
     "metadata": {},
     "output_type": "execute_result"
    }
   ],
   "source": [
    "# Testing one of the reviews to see what it is doing to the text, as above\n",
    "clean_text(bc_data['review'][14])"
   ]
  },
  {
   "cell_type": "code",
   "execution_count": 45,
   "metadata": {},
   "outputs": [
    {
     "data": {
      "image/png": "[encoded data removed]",
      "text/plain": [
       "<Figure size 432x288 with 1 Axes>"
      ]
     },
     "metadata": {
      "needs_background": "light"
     },
     "output_type": "display_data"
    }
   ],
   "source": [
    "### Plotting the top 10 most common words in the 'text' column in an sns bar chart after applying the clean_text function\n",
    "\n",
    "text = ' '.join(bc_data['review'])\n",
    "text = clean_text(text)\n",
    "text = text.split()\n",
    "\n",
    "freq = pd.Series(text).value_counts()[:10]\n",
    "freq = freq.to_frame()\n",
    "freq = freq.reset_index()\n",
    "freq.columns = ['word', 'count']\n",
    "freq = freq.sort_values(by='count', ascending=False)\n",
    "\n",
    "fig = plt.figure(figsize=(6,4))\n",
    "sns.barplot(x='count', y='word', data=freq, palette='tab10')\n",
    "plt.xlabel('Count')\n",
    "plt.ylabel('Word')\n",
    "plt.title('Top 10 Most Common Words in Reviews')\n",
    "plt.show()"
   ]
  },
  {
   "cell_type": "markdown",
   "metadata": {},
   "source": [
    "# Modeling"
   ]
  },
  {
   "cell_type": "code",
   "execution_count": 46,
   "metadata": {},
   "outputs": [
    {
     "name": "stdout",
     "output_type": "stream",
     "text": [
      "<class 'pandas.core.frame.DataFrame'>\n",
      "Int64Index: 22378 entries, 42 to 161273\n",
      "Data columns (total 10 columns):\n",
      " #   Column         Non-Null Count  Dtype         \n",
      "---  ------         --------------  -----         \n",
      " 0   drugName       22378 non-null  object        \n",
      " 1   condition      22378 non-null  object        \n",
      " 2   review         22378 non-null  object        \n",
      " 3   rating         22378 non-null  float64       \n",
      " 4   date           22378 non-null  datetime64[ns]\n",
      " 5   usefulCount    22378 non-null  int64         \n",
      " 6   sentiment      22378 non-null  object        \n",
      " 7   punc_emphasis  22378 non-null  int64         \n",
      " 8   capt_emphasis  22378 non-null  int64         \n",
      " 9   date_column    22378 non-null  object        \n",
      "dtypes: datetime64[ns](1), float64(1), int64(3), object(5)\n",
      "memory usage: 2.5+ MB\n"
     ]
    }
   ],
   "source": [
    "bc_data.info()"
   ]
  },
  {
   "cell_type": "markdown",
   "metadata": {},
   "source": [
    "### First Simple Model - Count Vectorizer / Logistic Regression / No Features"
   ]
  },
  {
   "cell_type": "code",
   "execution_count": 47,
   "metadata": {
    "scrolled": true
   },
   "outputs": [
    {
     "name": "stdout",
     "output_type": "stream",
     "text": [
      "Cross Validation Scores:  [0.82658475 0.83105278 0.82513966 0.81843575 0.82234637]\n",
      "Mean Cross Validation Score:  0.8247118638250607\n"
     ]
    }
   ],
   "source": [
    "X1 = bc_data['review']\n",
    "y1 = bc_data['sentiment']\n",
    "\n",
    "X_train_1, X_test_1, y_train_1, y_test_1 = train_test_split(X1, y1, test_size=0.2, random_state=1337)\n",
    "\n",
    "# For Train Set, apply clean_text function\n",
    "\n",
    "X_train_1 = X_train_1.apply(clean_text)\n",
    "\n",
    "### Train - Tokenize the training data with a simple split of words, and then flattening to prepare for vectorization\n",
    "\n",
    "X_train_1 = X_train_1.apply(lambda x: x.split())\n",
    "X_train_1 = X_train_1.map(' '.join)\n",
    "\n",
    "### Train - Vectorize the training data using CountVectorizer\n",
    "\n",
    "cv = CountVectorizer()\n",
    "X_train_1 = cv.fit_transform(X_train_1)\n",
    "\n",
    "### Train - Fit training data to Logistic Regression Model\n",
    "\n",
    "logit = LogisticRegression()\n",
    "logit.fit(X_train_1, y_train_1)\n",
    "\n",
    "### VALIDATION - Perform a cross validation on the logistic regression model\n",
    "\n",
    "scores = cross_val_score(logit, X_train_1, y_train_1, cv=5)\n",
    "print('Cross Validation Scores: ', scores)\n",
    "print('Mean Cross Validation Score: ', scores.mean())"
   ]
  },
  {
   "cell_type": "code",
   "execution_count": 48,
   "metadata": {},
   "outputs": [],
   "source": [
    "# Logistic Regression Test Set Preprocessing\n",
    "\n",
    "X_test_1 = X_test_1.apply(clean_text)\n",
    "X_test_1 = X_test_1.apply(lambda x: x.split())\n",
    "X_test_1 = X_test_1.map(' '.join)\n",
    "X_test_1 = cv.transform(X_test_1)"
   ]
  },
  {
   "cell_type": "code",
   "execution_count": 49,
   "metadata": {
    "scrolled": true
   },
   "outputs": [],
   "source": [
    "logit_pred = logit.predict(X_test_1)"
   ]
  },
  {
   "cell_type": "code",
   "execution_count": 50,
   "metadata": {
    "scrolled": true
   },
   "outputs": [
    {
     "name": "stdout",
     "output_type": "stream",
     "text": [
      "Logistic Regression Accuracy:  0.8317694369973191\n",
      "Logistic Regression F1 Score:  0.8317140169306872\n",
      "Logistic Regression Precision Score:  0.8317285793797539\n",
      "Logistic Regression Recall Score:  0.8317694369973191\n"
     ]
    }
   ],
   "source": [
    "print('Logistic Regression Accuracy: ', accuracy_score(y_test_1, logit_pred))\n",
    "print('Logistic Regression F1 Score: ', f1_score(y_test_1, logit_pred, average='weighted'))\n",
    "print('Logistic Regression Precision Score: ', precision_score(y_test_1, logit_pred, average='weighted'))\n",
    "print('Logistic Regression Recall Score: ', recall_score(y_test_1, logit_pred, average='weighted'))"
   ]
  },
  {
   "cell_type": "code",
   "execution_count": 51,
   "metadata": {},
   "outputs": [
    {
     "data": {
      "image/png": "[encoded data removed]",
      "text/plain": [
       "<Figure size 360x288 with 2 Axes>"
      ]
     },
     "metadata": {
      "needs_background": "light"
     },
     "output_type": "display_data"
    }
   ],
   "source": [
    "### Get scores for the sentiments individually to see\n",
    "\n",
    "# Quick look at decision matrix for our first model:\n",
    "\n",
    "### Logistic Regression Confusion Matrix\n",
    "\n",
    "cm = confusion_matrix(y_test_1, logit_pred)\n",
    "cm_df = pd.DataFrame(cm, index=['Negative', 'Positive'], columns=['Negative', 'Positive'])\n",
    "\n",
    "fig_cm1 = plt.figure(figsize=(5,4))\n",
    "sns.heatmap(cm_df, annot=True, fmt='g', cmap='Blues')\n",
    "plt.title('Logistic Regression Confusion Matrix')\n",
    "plt.ylabel('Actual Label')\n",
    "plt.xlabel('Predicted Label')\n",
    "plt.show()"
   ]
  },
  {
   "cell_type": "code",
   "execution_count": 52,
   "metadata": {},
   "outputs": [
    {
     "data": {
      "text/plain": [
       "4476"
      ]
     },
     "execution_count": 52,
     "metadata": {},
     "output_type": "execute_result"
    }
   ],
   "source": [
    "# Math check to see if these add up to the train split. It does!\n",
    "1748 + 1975 + 362 + 391"
   ]
  },
  {
   "cell_type": "markdown",
   "metadata": {},
   "source": [
    "### Second Model - TFID Vectorizer / Logistic Regression / No Features¶"
   ]
  },
  {
   "cell_type": "markdown",
   "metadata": {},
   "source": [
    "- Want to test if TFIDF Vectorizer makes a difference compared to Count Vectorizer"
   ]
  },
  {
   "cell_type": "code",
   "execution_count": 53,
   "metadata": {},
   "outputs": [
    {
     "name": "stdout",
     "output_type": "stream",
     "text": [
      "Cross Validation Scores:  [0.83216978 0.83524155 0.83463687 0.82206704 0.8273743 ]\n",
      "Mean Cross Validation Score:  0.8302979099811388\n"
     ]
    }
   ],
   "source": [
    "X1_tfidf = bc_data['review']\n",
    "y1_tfidf = bc_data['sentiment']\n",
    "\n",
    "X_train_1_tfidf, X_test_1_tfidf, y_train_1_tfidf, y_test_1_tfidf = train_test_split(X1, y1, test_size=0.2, random_state=1337)\n",
    "\n",
    "# For Train Set, apply clean_text function\n",
    "\n",
    "X_train_1_tfidf = X_train_1_tfidf.apply(clean_text)\n",
    "\n",
    "### Train - Tokenize the training data with a simple split of words, and then flattening to prepare for vectorization\n",
    "\n",
    "X_train_1_tfidf = X_train_1_tfidf.apply(lambda x: x.split())\n",
    "X_train_1_tfidf = X_train_1_tfidf.map(' '.join)\n",
    "\n",
    "### Train - Vectorize the training data using CountVectorizer\n",
    "\n",
    "tfidf = TfidfVectorizer()\n",
    "X_train_1_tfidf = tfidf.fit_transform(X_train_1_tfidf)\n",
    "\n",
    "### Train - Fit training data to Logistic Regression Model\n",
    "\n",
    "logit_tfidf = LogisticRegression()\n",
    "logit_tfidf.fit(X_train_1_tfidf, y_train_1_tfidf)\n",
    "\n",
    "### VALIDATION - Perform a cross validation on the decision tree classifier\n",
    "\n",
    "scores = cross_val_score(logit_tfidf, X_train_1_tfidf, y_train_1_tfidf, cv=5)\n",
    "print('Cross Validation Scores: ', scores)\n",
    "print('Mean Cross Validation Score: ', scores.mean())"
   ]
  },
  {
   "cell_type": "code",
   "execution_count": 54,
   "metadata": {},
   "outputs": [],
   "source": [
    "# Logistic Regression Test (TFIDF) Set Preprocessing\n",
    "\n",
    "X_test_1_tfidf = X_test_1_tfidf.apply(clean_text)\n",
    "X_test_1_tfidf = X_test_1_tfidf.apply(lambda x: x.split())\n",
    "X_test_1_tfidf = X_test_1_tfidf.map(' '.join)\n",
    "X_test_1_tfidf = cv.transform(X_test_1_tfidf)"
   ]
  },
  {
   "cell_type": "code",
   "execution_count": 55,
   "metadata": {},
   "outputs": [],
   "source": [
    "logit_pred_tfidf = logit_tfidf.predict(X_test_1_tfidf)"
   ]
  },
  {
   "cell_type": "code",
   "execution_count": 56,
   "metadata": {},
   "outputs": [
    {
     "data": {
      "image/png": "[encoded data removed]",
      "text/plain": [
       "<Figure size 360x288 with 2 Axes>"
      ]
     },
     "metadata": {
      "needs_background": "light"
     },
     "output_type": "display_data"
    }
   ],
   "source": [
    "### Logistic Regression Confusion Matrix w/ TFIDF\n",
    "\n",
    "cm = confusion_matrix(y_test_1_tfidf, logit_pred_tfidf)\n",
    "cm_df = pd.DataFrame(cm, index=['Negative', 'Positive'], columns=['Negative', 'Positive'])\n",
    "\n",
    "fig_cm1 = plt.figure(figsize=(5,4))\n",
    "sns.heatmap(cm_df, annot=True, fmt='g', cmap='Blues')\n",
    "plt.title('Logistic Regression Confusion Matrix')\n",
    "plt.ylabel('Actual Label')\n",
    "plt.xlabel('Predicted Label')\n",
    "plt.show()"
   ]
  },
  {
   "cell_type": "code",
   "execution_count": 57,
   "metadata": {},
   "outputs": [
    {
     "name": "stdout",
     "output_type": "stream",
     "text": [
      "Logistic Regression (TFIDF) Accuracy:  0.798704200178731\n",
      "Logistic Regression (TFIDF) F1 Score:  0.7978723877450785\n",
      "Logistic Regression (TFIDF) Precision Score:  0.8102055684985682\n",
      "Logistic Regression (TFIDF) Recall Score:  0.798704200178731\n"
     ]
    }
   ],
   "source": [
    "print('Logistic Regression (TFIDF) Accuracy: ', accuracy_score(y_test_1_tfidf, logit_pred_tfidf))\n",
    "print('Logistic Regression (TFIDF) F1 Score: ', f1_score(y_test_1_tfidf, logit_pred_tfidf, average='weighted'))\n",
    "print('Logistic Regression (TFIDF) Precision Score: ', precision_score(y_test_1_tfidf, logit_pred_tfidf, average='weighted'))\n",
    "print('Logistic Regression (TFIDF) Recall Score: ', recall_score(y_test_1_tfidf, logit_pred_tfidf, average='weighted'))"
   ]
  },
  {
   "cell_type": "markdown",
   "metadata": {},
   "source": [
    "- We see here that our Logistic regression model using TFIDF has a lower accuracy than the model with Count Vector. This could possibly be contributed to the fact of class imbalance, and the words that the model is selecting for is the result of the imbalanced classes. Will look at sampling differently in the next model"
   ]
  },
  {
   "cell_type": "markdown",
   "metadata": {},
   "source": [
    "### Grid Search for best Logistic Regression parameters"
   ]
  },
  {
   "cell_type": "code",
   "execution_count": 58,
   "metadata": {},
   "outputs": [
    {
     "name": "stdout",
     "output_type": "stream",
     "text": [
      "Best Parameters:  {'C': 1, 'penalty': 'l2'}\n"
     ]
    }
   ],
   "source": [
    "param_grid = {'C': [1, 10, 100, 1000, 10000],'penalty': ['none', 'l1', 'l2', 'elasticnet']}\n",
    "grid = GridSearchCV(logit, param_grid, cv=5, scoring='accuracy', n_jobs=-1)\n",
    "grid.fit(X_train_1, y_train_1)\n",
    "print('Best Parameters: ', grid.best_params_)"
   ]
  },
  {
   "cell_type": "markdown",
   "metadata": {},
   "source": [
    "- Looks that the default parameters are the best parameters for this model"
   ]
  },
  {
   "cell_type": "markdown",
   "metadata": {},
   "source": [
    "### Third Model: Count Vectorizer / Multinomial Bayes / No Features"
   ]
  },
  {
   "cell_type": "code",
   "execution_count": 59,
   "metadata": {
    "scrolled": false
   },
   "outputs": [
    {
     "name": "stdout",
     "output_type": "stream",
     "text": [
      "Cross Validation Scores:  [0.82016197 0.82435074 0.81564246 0.8047486  0.81061453]\n",
      "Mean Cross Validation Score:  0.8151036585080476\n"
     ]
    }
   ],
   "source": [
    "# Using the same X_train and y_train from our first and second models\n",
    "\n",
    "# Train - fitting the training data to a Naive Bayes Classifier\n",
    "\n",
    "nb = MultinomialNB()\n",
    "nb.fit(X_train_1, y_train_1)\n",
    "\n",
    "# Validation - Performing cross validation on the Naive Bayes Classifier\n",
    "\n",
    "scores = cross_val_score(nb, X_train_1, y_train_1, cv=5)\n",
    "print('Cross Validation Scores: ', scores)\n",
    "print('Mean Cross Validation Score: ', scores.mean())"
   ]
  },
  {
   "cell_type": "markdown",
   "metadata": {},
   "source": [
    "#### Grid Search for best conditions with NB"
   ]
  },
  {
   "cell_type": "code",
   "execution_count": 60,
   "metadata": {},
   "outputs": [
    {
     "name": "stdout",
     "output_type": "stream",
     "text": [
      "Best Parameters:  {'alpha': 0.5}\n"
     ]
    }
   ],
   "source": [
    "param_grid = {'alpha': [0.1, 0.5, 1, 2, 5, 20, 50]}\n",
    "grid = GridSearchCV(nb, param_grid, cv=5, scoring='accuracy', n_jobs=-1)\n",
    "grid.fit(X_train_1, y_train_1)\n",
    "print('Best Parameters: ', grid.best_params_)"
   ]
  },
  {
   "cell_type": "code",
   "execution_count": 61,
   "metadata": {},
   "outputs": [
    {
     "ename": "AttributeError",
     "evalue": "apply not found",
     "output_type": "error",
     "traceback": [
      "\u001b[0;31m---------------------------------------------------------------------------\u001b[0m",
      "\u001b[0;31mAttributeError\u001b[0m                            Traceback (most recent call last)",
      "\u001b[0;32m<ipython-input-61-cba77780f14a>\u001b[0m in \u001b[0;36m<module>\u001b[0;34m\u001b[0m\n\u001b[1;32m      1\u001b[0m \u001b[0;31m# Naive Bayes Test Set Preprocessing\u001b[0m\u001b[0;34m\u001b[0m\u001b[0;34m\u001b[0m\u001b[0;34m\u001b[0m\u001b[0m\n\u001b[1;32m      2\u001b[0m \u001b[0;34m\u001b[0m\u001b[0m\n\u001b[0;32m----> 3\u001b[0;31m \u001b[0mX_test_1_nb\u001b[0m \u001b[0;34m=\u001b[0m \u001b[0mX_test_1\u001b[0m\u001b[0;34m.\u001b[0m\u001b[0mapply\u001b[0m\u001b[0;34m(\u001b[0m\u001b[0mclean_text\u001b[0m\u001b[0;34m)\u001b[0m\u001b[0;34m\u001b[0m\u001b[0;34m\u001b[0m\u001b[0m\n\u001b[0m\u001b[1;32m      4\u001b[0m \u001b[0mX_test_1_nb\u001b[0m \u001b[0;34m=\u001b[0m \u001b[0mX_test_1\u001b[0m\u001b[0;34m.\u001b[0m\u001b[0mapply\u001b[0m\u001b[0;34m(\u001b[0m\u001b[0;32mlambda\u001b[0m \u001b[0mx\u001b[0m\u001b[0;34m:\u001b[0m \u001b[0mx\u001b[0m\u001b[0;34m.\u001b[0m\u001b[0msplit\u001b[0m\u001b[0;34m(\u001b[0m\u001b[0;34m)\u001b[0m\u001b[0;34m)\u001b[0m\u001b[0;34m\u001b[0m\u001b[0;34m\u001b[0m\u001b[0m\n\u001b[1;32m      5\u001b[0m \u001b[0mX_test_1_nb\u001b[0m \u001b[0;34m=\u001b[0m \u001b[0mX_test_1\u001b[0m\u001b[0;34m.\u001b[0m\u001b[0mmap\u001b[0m\u001b[0;34m(\u001b[0m\u001b[0;34m' '\u001b[0m\u001b[0;34m.\u001b[0m\u001b[0mjoin\u001b[0m\u001b[0;34m)\u001b[0m\u001b[0;34m\u001b[0m\u001b[0;34m\u001b[0m\u001b[0m\n",
      "\u001b[0;32m/opt/anaconda3/envs/learn-env/lib/python3.8/site-packages/scipy/sparse/base.py\u001b[0m in \u001b[0;36m__getattr__\u001b[0;34m(self, attr)\u001b[0m\n\u001b[1;32m    685\u001b[0m             \u001b[0;32mreturn\u001b[0m \u001b[0mself\u001b[0m\u001b[0;34m.\u001b[0m\u001b[0mgetnnz\u001b[0m\u001b[0;34m(\u001b[0m\u001b[0;34m)\u001b[0m\u001b[0;34m\u001b[0m\u001b[0;34m\u001b[0m\u001b[0m\n\u001b[1;32m    686\u001b[0m         \u001b[0;32melse\u001b[0m\u001b[0;34m:\u001b[0m\u001b[0;34m\u001b[0m\u001b[0;34m\u001b[0m\u001b[0m\n\u001b[0;32m--> 687\u001b[0;31m             \u001b[0;32mraise\u001b[0m \u001b[0mAttributeError\u001b[0m\u001b[0;34m(\u001b[0m\u001b[0mattr\u001b[0m \u001b[0;34m+\u001b[0m \u001b[0;34m\" not found\"\u001b[0m\u001b[0;34m)\u001b[0m\u001b[0;34m\u001b[0m\u001b[0;34m\u001b[0m\u001b[0m\n\u001b[0m\u001b[1;32m    688\u001b[0m \u001b[0;34m\u001b[0m\u001b[0m\n\u001b[1;32m    689\u001b[0m     \u001b[0;32mdef\u001b[0m \u001b[0mtranspose\u001b[0m\u001b[0;34m(\u001b[0m\u001b[0mself\u001b[0m\u001b[0;34m,\u001b[0m \u001b[0maxes\u001b[0m\u001b[0;34m=\u001b[0m\u001b[0;32mNone\u001b[0m\u001b[0;34m,\u001b[0m \u001b[0mcopy\u001b[0m\u001b[0;34m=\u001b[0m\u001b[0;32mFalse\u001b[0m\u001b[0;34m)\u001b[0m\u001b[0;34m:\u001b[0m\u001b[0;34m\u001b[0m\u001b[0;34m\u001b[0m\u001b[0m\n",
      "\u001b[0;31mAttributeError\u001b[0m: apply not found"
     ]
    }
   ],
   "source": [
    "# Naive Bayes Test Set Preprocessing\n",
    "\n",
    "X_test_1_nb = X_test_1.apply(clean_text)\n",
    "X_test_1_nb = X_test_1.apply(lambda x: x.split())\n",
    "X_test_1_nb = X_test_1.map(' '.join)\n",
    "X_test_1_nb = cv.transform(X_test_1)"
   ]
  },
  {
   "cell_type": "code",
   "execution_count": null,
   "metadata": {},
   "outputs": [],
   "source": []
  }
 ],
 "metadata": {
  "kernelspec": {
   "display_name": "Python (learn-env)",
   "language": "python",
   "name": "learn-env"
  },
  "language_info": {
   "codemirror_mode": {
    "name": "ipython",
    "version": 3
   },
   "file_extension": ".py",
   "mimetype": "text/x-python",
   "name": "python",
   "nbconvert_exporter": "python",
   "pygments_lexer": "ipython3",
   "version": "3.8.5"
  }
 },
 "nbformat": 4,
 "nbformat_minor": 4
}
